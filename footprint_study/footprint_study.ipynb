{
 "cells": [
  {
   "attachments": {},
   "cell_type": "markdown",
   "metadata": {},
   "source": [
    "## Perturbative footprint study"
   ]
  },
  {
   "attachments": {},
   "cell_type": "markdown",
   "metadata": {},
   "source": [
    "### Imports"
   ]
  },
  {
   "cell_type": "code",
   "execution_count": 24,
   "metadata": {},
   "outputs": [],
   "source": [
    "# Standard imports\n",
    "import numpy as np\n",
    "import shutil\n",
    "from ruamel.yaml import YAML\n",
    "import os\n",
    "import matplotlib.pyplot as plt\n",
    "import pickle\n",
    "import subprocess\n",
    "import time\n",
    "#from multiprocessing import Pool\n",
    "#from multiprocessing.dummy import Pool as ThreadPool\n",
    "\n",
    "# Cern modules\n",
    "import fillingpatterns as fp\n",
    "import xtrack as xt\n",
    "\n",
    "# Improve style\n",
    "import seaborn as sns\n",
    "\n",
    "sns.set_theme(style=\"whitegrid\")"
   ]
  },
  {
   "attachments": {},
   "cell_type": "markdown",
   "metadata": {},
   "source": [
    "### Generate a machine with xmask from the appropriate configuration file"
   ]
  },
  {
   "attachments": {},
   "cell_type": "markdown",
   "metadata": {},
   "source": [
    "#### First create a proper configuration file"
   ]
  },
  {
   "cell_type": "code",
   "execution_count": 2,
   "metadata": {},
   "outputs": [
    {
     "name": "stdout",
     "output_type": "stream",
     "text": [
      "Knob on_x8h not found in xmask config file. Beind added now.\n",
      "Knob on_x8v not found in xmask config file. Beind added now.\n",
      "Knob on_sep8h not found in xmask config file. Beind added now.\n",
      "Knob on_sep8v not found in xmask config file. Beind added now.\n"
     ]
    }
   ],
   "source": [
    "# Copy default configuration file for xmask, and target configuration file for pymask\n",
    "shutil.copyfile(\"../modules/xmask/examples/hllhc15_collision/config.yaml\", \"config_xm.yaml\")\n",
    "shutil.copyfile(\n",
    "    \"/afs/cern.ch/work/c/cdroin/private/DA_study/master_study/opt_flathv_75_1500_withBB_chroma15_1p4_all_bunches/madx_001/config.yaml\",\n",
    "    \"config_pm.yaml\",\n",
    ")\n",
    "\n",
    "\n",
    "# Read and mutate xmask config file\n",
    "with open(\"config_xm.yaml\", \"r\") as fid:\n",
    "    config_xm_str = fid.read()\n",
    "\n",
    "with open(\"config_pm.yaml\", \"r\") as fid:\n",
    "    config_pm_str = fid.read()\n",
    "\n",
    "yaml = YAML()\n",
    "config_pm = yaml.load(config_pm_str)\n",
    "config_xm = yaml.load(config_xm_str)\n",
    "\n",
    "# Hardcode optics configuration files as they can't be ported directly\n",
    "config_xm[\"config_mad\"][\"links\"][\"acc-models-lhc\"] = \"/afs/cern.ch/eng/lhc/optics/HLLHCV1.5\"\n",
    "config_xm[\"config_mad\"][\"optics_file\"] = \"acc-models-lhc/flatcc/opt_flathv_75_180_1500_thin.madx\"\n",
    "config_xm[\"config_knobs_and_tuning\"][\"closed_orbit_correction\"][\n",
    "    \"lhcb1\"\n",
    "] = \"../modules/tools/corr_co_lhcb1.json\"\n",
    "config_xm[\"config_knobs_and_tuning\"][\"closed_orbit_correction\"][\n",
    "    \"lhcb2\"\n",
    "] = \"../modules/tools/corr_co_lhcb2.json\"\n",
    "\n",
    "# Mutate optics and check config\n",
    "config_xm[\"config_mad\"][\"enable_imperfections\"] = config_pm[\"enable_imperfections\"]\n",
    "config_xm[\"config_mad\"][\"enable_knob_synthesis\"] = config_pm[\"enable_knob_synthesis\"]\n",
    "config_xm[\"config_mad\"][\"ver_hllhc_optics\"] = float(config_pm[\"optics_version\"])\n",
    "config_xm[\"config_mad\"][\"pars_for_imperfections\"] = config_pm[\"pars_for_imperfections\"]\n",
    "\n",
    "# Mutate beam config\n",
    "config_xm[\"config_mad\"][\"beam_config\"][\"lhcb1\"][\"beam_energy_tot\"] = config_pm[\"beam_energy_tot\"]\n",
    "config_xm[\"config_mad\"][\"beam_config\"][\"lhcb2\"][\"beam_energy_tot\"] = config_pm[\"beam_energy_tot\"]\n",
    "\n",
    "# Mutate beambeam parameters\n",
    "config_xm[\"config_beambeam\"][\"nemitt_x\"] = config_pm[\"beam_norm_emit_x\"] * 1e-6\n",
    "config_xm[\"config_beambeam\"][\"nemitt_y\"] = config_pm[\"beam_norm_emit_y\"] * 1e-6\n",
    "config_xm[\"config_beambeam\"][\"sigma_z\"] = config_pm[\"beam_sigt\"]\n",
    "config_xm[\"config_beambeam\"][\"num_particles_per_bunch\"] = config_pm[\"beam_npart\"]\n",
    "config_xm[\"config_beambeam\"][\"num_particles_per_bunch\"] = config_pm[\"beam_npart\"]\n",
    "for i, ip in enumerate([\"ip1\", \"ip2\", \"ip5\", \"ip8\"]):\n",
    "    config_xm[\"config_beambeam\"][\"num_long_range_encounters_per_side\"][ip] = config_pm[\n",
    "        \"beambeam_config\"\n",
    "    ][\"numberOfLRPerIRSide\"][i]\n",
    "config_xm[\"config_beambeam\"][\"num_slices_head_on\"] = config_pm[\"beambeam_config\"][\n",
    "    \"numberOfHOSlices\"\n",
    "]\n",
    "config_xm[\"config_beambeam\"][\"bunch_spacing_buckets\"] = config_pm[\"beambeam_config\"][\n",
    "    \"bunch_spacing_buckets\"\n",
    "]\n",
    "\n",
    "# Mutate tunes and chromaticities (assume same for both beams, since not settable in pymask)\n",
    "config_xm[\"config_knobs_and_tuning\"][\"qx\"][\"lhcb1\"] = config_pm[\"qx0\"]\n",
    "config_xm[\"config_knobs_and_tuning\"][\"qx\"][\"lhcb2\"] = config_pm[\"qx0\"]\n",
    "config_xm[\"config_knobs_and_tuning\"][\"qy\"][\"lhcb1\"] = config_pm[\"qy0\"]\n",
    "config_xm[\"config_knobs_and_tuning\"][\"qy\"][\"lhcb2\"] = config_pm[\"qy0\"]\n",
    "config_xm[\"config_knobs_and_tuning\"][\"dqx\"][\"lhcb1\"] = config_pm[\"chromaticity_x\"]\n",
    "config_xm[\"config_knobs_and_tuning\"][\"dqx\"][\"lhcb2\"] = config_pm[\"chromaticity_x\"]\n",
    "config_xm[\"config_knobs_and_tuning\"][\"dqy\"][\"lhcb1\"] = config_pm[\"chromaticity_y\"]\n",
    "config_xm[\"config_knobs_and_tuning\"][\"dqy\"][\"lhcb2\"] = config_pm[\"chromaticity_y\"]\n",
    "\n",
    "# Mutate knobs\n",
    "for knob in config_pm[\"knob_settings\"]:\n",
    "    if knob in config_xm[\"config_knobs_and_tuning\"][\"knob_settings\"]:\n",
    "        config_xm[\"config_knobs_and_tuning\"][\"knob_settings\"][knob] = config_pm[\"knob_settings\"][\n",
    "            knob\n",
    "        ]\n",
    "    else:\n",
    "        print(f\"Knob {knob} not found in xmask config file. Beind added now.\")\n",
    "        config_xm[\"config_knobs_and_tuning\"][\"knob_settings\"][knob] = config_pm[\"knob_settings\"][\n",
    "            knob\n",
    "        ]\n",
    "\n",
    "# Mutate RF voltage and octupole current\n",
    "config_xm[\"config_knobs_and_tuning\"][\"knob_settings\"][\"vrf400\"] = config_pm[\"vrf_total\"]\n",
    "config_xm[\"config_knobs_and_tuning\"][\"knob_settings\"][\"i_oct_b1\"] = config_pm[\"oct_current\"]\n",
    "config_xm[\"config_knobs_and_tuning\"][\"knob_settings\"][\"i_oct_b2\"] = config_pm[\"oct_current\"]\n",
    "\n",
    "\n",
    "# Artificially implement end of luminosity levelling\n",
    "config_xm[\"config_knobs_and_tuning\"][\"knob_settings\"][\"on_sep8\"] = 0.0\n",
    "config_xm[\"config_knobs_and_tuning\"][\"knob_settings\"][\"on_sep8h\"] = -0.01745641501719127\n",
    "config_xm[\"config_knobs_and_tuning\"][\"knob_settings\"][\"on_sep8v\"] = 0.01371863979152592\n",
    "config_xm[\"config_knobs_and_tuning\"][\"knob_settings\"][\"on_x8\"] = 0.0\n",
    "config_xm[\"config_knobs_and_tuning\"][\"knob_settings\"][\"on_x8h\"] = 0.0\n",
    "config_xm[\"config_knobs_and_tuning\"][\"knob_settings\"][\"on_x8v\"] = 170.0\n",
    "config_xm[\"config_knobs_and_tuning\"][\"knob_settings\"][\"on_sep2\"] = 0.1443593672910653\n",
    "\n",
    "\n",
    "# ! WARNING. AT THIS POINT:\n",
    "# ! - Coupling is missing\n",
    "# ! - bunch-by-bunch and filling schemes are missing\n",
    "\n",
    "\n",
    "# Write config file\n",
    "with open(\"config_xm.yaml\", \"w\") as fid:\n",
    "    yaml.dump(config_xm, fid)"
   ]
  },
  {
   "attachments": {},
   "cell_type": "markdown",
   "metadata": {},
   "source": [
    "#### Build machine"
   ]
  },
  {
   "cell_type": "code",
   "execution_count": 3,
   "metadata": {},
   "outputs": [
    {
     "name": "stdout",
     "output_type": "stream",
     "text": [
      "Done loading line from dict.           \n",
      "Done loading line from dict.           \n",
      "Done loading line from dict.           \n",
      "Done loading line from dict.           \n",
      "Compiling ContextCpu kernels...\n"
     ]
    },
    {
     "name": "stderr",
     "output_type": "stream",
     "text": [
      "c1123f021a594e06bdb402b3cb147d05.c:4280: warning: \"_GNU_SOURCE\" redefined\n",
      " 4280 | #  define _GNU_SOURCE // enable GNU libc NAN extension if possible\n",
      "      | \n",
      "In file included from c1123f021a594e06bdb402b3cb147d05.c:50:\n",
      "/afs/cern.ch/work/c/cdroin/private/xmask_DA_study/miniconda/include/python3.10/pyconfig.h:1621: note: this is the location of the previous definition\n",
      " 1621 | #define _GNU_SOURCE 1\n",
      "      | \n"
     ]
    },
    {
     "name": "stdout",
     "output_type": "stream",
     "text": [
      "Done compiling ContextCpu kernels.\n",
      "Compiling ContextCpu kernels...\n"
     ]
    },
    {
     "name": "stderr",
     "output_type": "stream",
     "text": [
      "fed446388c3b435d840991737df91e1a.c:4280: warning: \"_GNU_SOURCE\" redefined\n",
      " 4280 | #  define _GNU_SOURCE // enable GNU libc NAN extension if possible\n",
      "      | \n",
      "In file included from fed446388c3b435d840991737df91e1a.c:50:\n",
      "/afs/cern.ch/work/c/cdroin/private/xmask_DA_study/miniconda/include/python3.10/pyconfig.h:1621: note: this is the location of the previous definition\n",
      " 1621 | #define _GNU_SOURCE 1\n",
      "      | \n"
     ]
    },
    {
     "name": "stdout",
     "output_type": "stream",
     "text": [
      "Done compiling ContextCpu kernels.\n",
      "Compiling ContextCpu kernels...\n",
      "Done compiling ContextCpu kernels.\n",
      "Compiling ContextCpu kernels...\n",
      "Done compiling ContextCpu kernels.\n"
     ]
    }
   ],
   "source": [
    "REBUILD = False\n",
    "if REBUILD:\n",
    "    os.system(\"python build_machine.py\")\n",
    "collider = xt.Multiline.from_json(\"output/collider_tuned_bb_on.json\")\n",
    "collider.build_trackers()"
   ]
  },
  {
   "attachments": {},
   "cell_type": "markdown",
   "metadata": {},
   "source": [
    "### Correct bbb schedule"
   ]
  },
  {
   "cell_type": "code",
   "execution_count": 4,
   "metadata": {},
   "outputs": [
    {
     "name": "stdout",
     "output_type": "stream",
     "text": [
      "Computing collision schedules...\n",
      "Done Beam 1\n",
      "Done Beam 2\n"
     ]
    },
    {
     "data": {
      "text/html": [
       "<div>\n",
       "<style scoped>\n",
       "    .dataframe tbody tr th:only-of-type {\n",
       "        vertical-align: middle;\n",
       "    }\n",
       "\n",
       "    .dataframe tbody tr th {\n",
       "        vertical-align: top;\n",
       "    }\n",
       "\n",
       "    .dataframe thead th {\n",
       "        text-align: right;\n",
       "    }\n",
       "</style>\n",
       "<table border=\"1\" class=\"dataframe\">\n",
       "  <thead>\n",
       "    <tr style=\"text-align: right;\">\n",
       "      <th></th>\n",
       "      <th>HO partner in ALICE</th>\n",
       "      <th># of LR in ALICE</th>\n",
       "      <th>BB partners in ALICE</th>\n",
       "      <th>Positions in ALICE</th>\n",
       "      <th>HO partner in ATLAS/CMS</th>\n",
       "      <th># of LR in ATLAS/CMS</th>\n",
       "      <th>BB partners in ATLAS/CMS</th>\n",
       "      <th>Positions in ATLAS/CMS</th>\n",
       "      <th>HO partner in LHCB</th>\n",
       "      <th># of LR in LHCB</th>\n",
       "      <th>BB partners in LHCB</th>\n",
       "      <th>Positions in LHCB</th>\n",
       "      <th>collides in ATLAS/CMS</th>\n",
       "      <th>collides in ALICE</th>\n",
       "      <th>collides in LHCB</th>\n",
       "    </tr>\n",
       "  </thead>\n",
       "  <tbody>\n",
       "    <tr>\n",
       "      <th>12</th>\n",
       "      <td>903.0</td>\n",
       "      <td>23</td>\n",
       "      <td>[879.0, 880.0, 881.0, 882.0, 883.0, 884.0, 885...</td>\n",
       "      <td>[-24.0, -23.0, -22.0, -21.0, -20.0, -19.0, -18...</td>\n",
       "      <td>NaN</td>\n",
       "      <td>12</td>\n",
       "      <td>[0.0, 1.0, 2.0, 3.0, 4.0, 5.0, 6.0, 7.0, 8.0, ...</td>\n",
       "      <td>[-12.0, -11.0, -10.0, -9.0, -8.0, -7.0, -6.0, ...</td>\n",
       "      <td>2682.0</td>\n",
       "      <td>29</td>\n",
       "      <td>[2657.0, 2658.0, 2659.0, 2660.0, 2661.0, 2662....</td>\n",
       "      <td>[-25.0, -24.0, -23.0, -22.0, -21.0, -20.0, -15...</td>\n",
       "      <td>False</td>\n",
       "      <td>True</td>\n",
       "      <td>True</td>\n",
       "    </tr>\n",
       "    <tr>\n",
       "      <th>13</th>\n",
       "      <td>904.0</td>\n",
       "      <td>23</td>\n",
       "      <td>[879.0, 880.0, 881.0, 882.0, 883.0, 884.0, 885...</td>\n",
       "      <td>[-25.0, -24.0, -23.0, -22.0, -21.0, -20.0, -19...</td>\n",
       "      <td>NaN</td>\n",
       "      <td>12</td>\n",
       "      <td>[0.0, 1.0, 2.0, 3.0, 4.0, 5.0, 6.0, 7.0, 8.0, ...</td>\n",
       "      <td>[-13.0, -12.0, -11.0, -10.0, -9.0, -8.0, -7.0,...</td>\n",
       "      <td>2683.0</td>\n",
       "      <td>28</td>\n",
       "      <td>[2658.0, 2659.0, 2660.0, 2661.0, 2662.0, 2667....</td>\n",
       "      <td>[-25.0, -24.0, -23.0, -22.0, -21.0, -16.0, -15...</td>\n",
       "      <td>False</td>\n",
       "      <td>True</td>\n",
       "      <td>True</td>\n",
       "    </tr>\n",
       "    <tr>\n",
       "      <th>14</th>\n",
       "      <td>905.0</td>\n",
       "      <td>22</td>\n",
       "      <td>[880.0, 881.0, 882.0, 883.0, 884.0, 885.0, 886...</td>\n",
       "      <td>[-25.0, -24.0, -23.0, -22.0, -21.0, -20.0, -19...</td>\n",
       "      <td>NaN</td>\n",
       "      <td>12</td>\n",
       "      <td>[0.0, 1.0, 2.0, 3.0, 4.0, 5.0, 6.0, 7.0, 8.0, ...</td>\n",
       "      <td>[-14.0, -13.0, -12.0, -11.0, -10.0, -9.0, -8.0...</td>\n",
       "      <td>2684.0</td>\n",
       "      <td>27</td>\n",
       "      <td>[2659.0, 2660.0, 2661.0, 2662.0, 2667.0, 2668....</td>\n",
       "      <td>[-25.0, -24.0, -23.0, -22.0, -17.0, -16.0, -15...</td>\n",
       "      <td>False</td>\n",
       "      <td>True</td>\n",
       "      <td>True</td>\n",
       "    </tr>\n",
       "    <tr>\n",
       "      <th>15</th>\n",
       "      <td>906.0</td>\n",
       "      <td>21</td>\n",
       "      <td>[881.0, 882.0, 883.0, 884.0, 885.0, 886.0, 891...</td>\n",
       "      <td>[-25.0, -24.0, -23.0, -22.0, -21.0, -20.0, -15...</td>\n",
       "      <td>NaN</td>\n",
       "      <td>12</td>\n",
       "      <td>[0.0, 1.0, 2.0, 3.0, 4.0, 5.0, 6.0, 7.0, 8.0, ...</td>\n",
       "      <td>[-15.0, -14.0, -13.0, -12.0, -11.0, -10.0, -9....</td>\n",
       "      <td>2685.0</td>\n",
       "      <td>26</td>\n",
       "      <td>[2660.0, 2661.0, 2662.0, 2667.0, 2668.0, 2669....</td>\n",
       "      <td>[-25.0, -24.0, -23.0, -18.0, -17.0, -16.0, -15...</td>\n",
       "      <td>False</td>\n",
       "      <td>True</td>\n",
       "      <td>True</td>\n",
       "    </tr>\n",
       "    <tr>\n",
       "      <th>16</th>\n",
       "      <td>907.0</td>\n",
       "      <td>20</td>\n",
       "      <td>[882.0, 883.0, 884.0, 885.0, 886.0, 891.0, 892...</td>\n",
       "      <td>[-25.0, -24.0, -23.0, -22.0, -21.0, -16.0, -15...</td>\n",
       "      <td>NaN</td>\n",
       "      <td>12</td>\n",
       "      <td>[0.0, 1.0, 2.0, 3.0, 4.0, 5.0, 6.0, 7.0, 8.0, ...</td>\n",
       "      <td>[-16.0, -15.0, -14.0, -13.0, -12.0, -11.0, -10...</td>\n",
       "      <td>2686.0</td>\n",
       "      <td>25</td>\n",
       "      <td>[2661.0, 2662.0, 2667.0, 2668.0, 2669.0, 2670....</td>\n",
       "      <td>[-25.0, -24.0, -19.0, -18.0, -17.0, -16.0, -15...</td>\n",
       "      <td>False</td>\n",
       "      <td>True</td>\n",
       "      <td>True</td>\n",
       "    </tr>\n",
       "    <tr>\n",
       "      <th>...</th>\n",
       "      <td>...</td>\n",
       "      <td>...</td>\n",
       "      <td>...</td>\n",
       "      <td>...</td>\n",
       "      <td>...</td>\n",
       "      <td>...</td>\n",
       "      <td>...</td>\n",
       "      <td>...</td>\n",
       "      <td>...</td>\n",
       "      <td>...</td>\n",
       "      <td>...</td>\n",
       "      <td>...</td>\n",
       "      <td>...</td>\n",
       "      <td>...</td>\n",
       "      <td>...</td>\n",
       "    </tr>\n",
       "    <tr>\n",
       "      <th>3438</th>\n",
       "      <td>765.0</td>\n",
       "      <td>23</td>\n",
       "      <td>[741.0, 742.0, 743.0, 744.0, 745.0, 746.0, 747...</td>\n",
       "      <td>[-24.0, -23.0, -22.0, -21.0, -20.0, -19.0, -18...</td>\n",
       "      <td>3438.0</td>\n",
       "      <td>21</td>\n",
       "      <td>[3413.0, 3414.0, 3415.0, 3416.0, 3417.0, 3418....</td>\n",
       "      <td>[-25.0, -24.0, -23.0, -22.0, -21.0, -20.0, -15...</td>\n",
       "      <td>2544.0</td>\n",
       "      <td>21</td>\n",
       "      <td>[2519.0, 2520.0, 2521.0, 2522.0, 2523.0, 2524....</td>\n",
       "      <td>[-25.0, -24.0, -23.0, -22.0, -21.0, -20.0, -15...</td>\n",
       "      <td>True</td>\n",
       "      <td>True</td>\n",
       "      <td>True</td>\n",
       "    </tr>\n",
       "    <tr>\n",
       "      <th>3439</th>\n",
       "      <td>766.0</td>\n",
       "      <td>23</td>\n",
       "      <td>[741.0, 742.0, 743.0, 744.0, 745.0, 746.0, 747...</td>\n",
       "      <td>[-25.0, -24.0, -23.0, -22.0, -21.0, -20.0, -19...</td>\n",
       "      <td>3439.0</td>\n",
       "      <td>20</td>\n",
       "      <td>[3414.0, 3415.0, 3416.0, 3417.0, 3418.0, 3423....</td>\n",
       "      <td>[-25.0, -24.0, -23.0, -22.0, -21.0, -16.0, -15...</td>\n",
       "      <td>2545.0</td>\n",
       "      <td>20</td>\n",
       "      <td>[2520.0, 2521.0, 2522.0, 2523.0, 2524.0, 2529....</td>\n",
       "      <td>[-25.0, -24.0, -23.0, -22.0, -21.0, -16.0, -15...</td>\n",
       "      <td>True</td>\n",
       "      <td>True</td>\n",
       "      <td>True</td>\n",
       "    </tr>\n",
       "    <tr>\n",
       "      <th>3440</th>\n",
       "      <td>767.0</td>\n",
       "      <td>22</td>\n",
       "      <td>[742.0, 743.0, 744.0, 745.0, 746.0, 747.0, 748...</td>\n",
       "      <td>[-25.0, -24.0, -23.0, -22.0, -21.0, -20.0, -19...</td>\n",
       "      <td>3440.0</td>\n",
       "      <td>19</td>\n",
       "      <td>[3415.0, 3416.0, 3417.0, 3418.0, 3423.0, 3424....</td>\n",
       "      <td>[-25.0, -24.0, -23.0, -22.0, -17.0, -16.0, -15...</td>\n",
       "      <td>2546.0</td>\n",
       "      <td>19</td>\n",
       "      <td>[2521.0, 2522.0, 2523.0, 2524.0, 2529.0, 2530....</td>\n",
       "      <td>[-25.0, -24.0, -23.0, -22.0, -17.0, -16.0, -15...</td>\n",
       "      <td>True</td>\n",
       "      <td>True</td>\n",
       "      <td>True</td>\n",
       "    </tr>\n",
       "    <tr>\n",
       "      <th>3441</th>\n",
       "      <td>768.0</td>\n",
       "      <td>21</td>\n",
       "      <td>[743.0, 744.0, 745.0, 746.0, 747.0, 748.0, 753...</td>\n",
       "      <td>[-25.0, -24.0, -23.0, -22.0, -21.0, -20.0, -15...</td>\n",
       "      <td>3441.0</td>\n",
       "      <td>18</td>\n",
       "      <td>[3416.0, 3417.0, 3418.0, 3423.0, 3424.0, 3425....</td>\n",
       "      <td>[-25.0, -24.0, -23.0, -18.0, -17.0, -16.0, -15...</td>\n",
       "      <td>2547.0</td>\n",
       "      <td>18</td>\n",
       "      <td>[2522.0, 2523.0, 2524.0, 2529.0, 2530.0, 2531....</td>\n",
       "      <td>[-25.0, -24.0, -23.0, -18.0, -17.0, -16.0, -15...</td>\n",
       "      <td>True</td>\n",
       "      <td>True</td>\n",
       "      <td>True</td>\n",
       "    </tr>\n",
       "    <tr>\n",
       "      <th>3442</th>\n",
       "      <td>769.0</td>\n",
       "      <td>20</td>\n",
       "      <td>[744.0, 745.0, 746.0, 747.0, 748.0, 753.0, 754...</td>\n",
       "      <td>[-25.0, -24.0, -23.0, -22.0, -21.0, -16.0, -15...</td>\n",
       "      <td>3442.0</td>\n",
       "      <td>17</td>\n",
       "      <td>[3417.0, 3418.0, 3423.0, 3424.0, 3425.0, 3426....</td>\n",
       "      <td>[-25.0, -24.0, -19.0, -18.0, -17.0, -16.0, -15...</td>\n",
       "      <td>2548.0</td>\n",
       "      <td>17</td>\n",
       "      <td>[2523.0, 2524.0, 2529.0, 2530.0, 2531.0, 2532....</td>\n",
       "      <td>[-25.0, -24.0, -19.0, -18.0, -17.0, -16.0, -15...</td>\n",
       "      <td>True</td>\n",
       "      <td>True</td>\n",
       "      <td>True</td>\n",
       "    </tr>\n",
       "  </tbody>\n",
       "</table>\n",
       "<p>1972 rows × 15 columns</p>\n",
       "</div>"
      ],
      "text/plain": [
       "      HO partner in ALICE  # of LR in ALICE   \n",
       "12                  903.0                23  \\\n",
       "13                  904.0                23   \n",
       "14                  905.0                22   \n",
       "15                  906.0                21   \n",
       "16                  907.0                20   \n",
       "...                   ...               ...   \n",
       "3438                765.0                23   \n",
       "3439                766.0                23   \n",
       "3440                767.0                22   \n",
       "3441                768.0                21   \n",
       "3442                769.0                20   \n",
       "\n",
       "                                   BB partners in ALICE   \n",
       "12    [879.0, 880.0, 881.0, 882.0, 883.0, 884.0, 885...  \\\n",
       "13    [879.0, 880.0, 881.0, 882.0, 883.0, 884.0, 885...   \n",
       "14    [880.0, 881.0, 882.0, 883.0, 884.0, 885.0, 886...   \n",
       "15    [881.0, 882.0, 883.0, 884.0, 885.0, 886.0, 891...   \n",
       "16    [882.0, 883.0, 884.0, 885.0, 886.0, 891.0, 892...   \n",
       "...                                                 ...   \n",
       "3438  [741.0, 742.0, 743.0, 744.0, 745.0, 746.0, 747...   \n",
       "3439  [741.0, 742.0, 743.0, 744.0, 745.0, 746.0, 747...   \n",
       "3440  [742.0, 743.0, 744.0, 745.0, 746.0, 747.0, 748...   \n",
       "3441  [743.0, 744.0, 745.0, 746.0, 747.0, 748.0, 753...   \n",
       "3442  [744.0, 745.0, 746.0, 747.0, 748.0, 753.0, 754...   \n",
       "\n",
       "                                     Positions in ALICE   \n",
       "12    [-24.0, -23.0, -22.0, -21.0, -20.0, -19.0, -18...  \\\n",
       "13    [-25.0, -24.0, -23.0, -22.0, -21.0, -20.0, -19...   \n",
       "14    [-25.0, -24.0, -23.0, -22.0, -21.0, -20.0, -19...   \n",
       "15    [-25.0, -24.0, -23.0, -22.0, -21.0, -20.0, -15...   \n",
       "16    [-25.0, -24.0, -23.0, -22.0, -21.0, -16.0, -15...   \n",
       "...                                                 ...   \n",
       "3438  [-24.0, -23.0, -22.0, -21.0, -20.0, -19.0, -18...   \n",
       "3439  [-25.0, -24.0, -23.0, -22.0, -21.0, -20.0, -19...   \n",
       "3440  [-25.0, -24.0, -23.0, -22.0, -21.0, -20.0, -19...   \n",
       "3441  [-25.0, -24.0, -23.0, -22.0, -21.0, -20.0, -15...   \n",
       "3442  [-25.0, -24.0, -23.0, -22.0, -21.0, -16.0, -15...   \n",
       "\n",
       "      HO partner in ATLAS/CMS  # of LR in ATLAS/CMS   \n",
       "12                        NaN                    12  \\\n",
       "13                        NaN                    12   \n",
       "14                        NaN                    12   \n",
       "15                        NaN                    12   \n",
       "16                        NaN                    12   \n",
       "...                       ...                   ...   \n",
       "3438                   3438.0                    21   \n",
       "3439                   3439.0                    20   \n",
       "3440                   3440.0                    19   \n",
       "3441                   3441.0                    18   \n",
       "3442                   3442.0                    17   \n",
       "\n",
       "                               BB partners in ATLAS/CMS   \n",
       "12    [0.0, 1.0, 2.0, 3.0, 4.0, 5.0, 6.0, 7.0, 8.0, ...  \\\n",
       "13    [0.0, 1.0, 2.0, 3.0, 4.0, 5.0, 6.0, 7.0, 8.0, ...   \n",
       "14    [0.0, 1.0, 2.0, 3.0, 4.0, 5.0, 6.0, 7.0, 8.0, ...   \n",
       "15    [0.0, 1.0, 2.0, 3.0, 4.0, 5.0, 6.0, 7.0, 8.0, ...   \n",
       "16    [0.0, 1.0, 2.0, 3.0, 4.0, 5.0, 6.0, 7.0, 8.0, ...   \n",
       "...                                                 ...   \n",
       "3438  [3413.0, 3414.0, 3415.0, 3416.0, 3417.0, 3418....   \n",
       "3439  [3414.0, 3415.0, 3416.0, 3417.0, 3418.0, 3423....   \n",
       "3440  [3415.0, 3416.0, 3417.0, 3418.0, 3423.0, 3424....   \n",
       "3441  [3416.0, 3417.0, 3418.0, 3423.0, 3424.0, 3425....   \n",
       "3442  [3417.0, 3418.0, 3423.0, 3424.0, 3425.0, 3426....   \n",
       "\n",
       "                                 Positions in ATLAS/CMS  HO partner in LHCB   \n",
       "12    [-12.0, -11.0, -10.0, -9.0, -8.0, -7.0, -6.0, ...              2682.0  \\\n",
       "13    [-13.0, -12.0, -11.0, -10.0, -9.0, -8.0, -7.0,...              2683.0   \n",
       "14    [-14.0, -13.0, -12.0, -11.0, -10.0, -9.0, -8.0...              2684.0   \n",
       "15    [-15.0, -14.0, -13.0, -12.0, -11.0, -10.0, -9....              2685.0   \n",
       "16    [-16.0, -15.0, -14.0, -13.0, -12.0, -11.0, -10...              2686.0   \n",
       "...                                                 ...                 ...   \n",
       "3438  [-25.0, -24.0, -23.0, -22.0, -21.0, -20.0, -15...              2544.0   \n",
       "3439  [-25.0, -24.0, -23.0, -22.0, -21.0, -16.0, -15...              2545.0   \n",
       "3440  [-25.0, -24.0, -23.0, -22.0, -17.0, -16.0, -15...              2546.0   \n",
       "3441  [-25.0, -24.0, -23.0, -18.0, -17.0, -16.0, -15...              2547.0   \n",
       "3442  [-25.0, -24.0, -19.0, -18.0, -17.0, -16.0, -15...              2548.0   \n",
       "\n",
       "      # of LR in LHCB                                BB partners in LHCB   \n",
       "12                 29  [2657.0, 2658.0, 2659.0, 2660.0, 2661.0, 2662....  \\\n",
       "13                 28  [2658.0, 2659.0, 2660.0, 2661.0, 2662.0, 2667....   \n",
       "14                 27  [2659.0, 2660.0, 2661.0, 2662.0, 2667.0, 2668....   \n",
       "15                 26  [2660.0, 2661.0, 2662.0, 2667.0, 2668.0, 2669....   \n",
       "16                 25  [2661.0, 2662.0, 2667.0, 2668.0, 2669.0, 2670....   \n",
       "...               ...                                                ...   \n",
       "3438               21  [2519.0, 2520.0, 2521.0, 2522.0, 2523.0, 2524....   \n",
       "3439               20  [2520.0, 2521.0, 2522.0, 2523.0, 2524.0, 2529....   \n",
       "3440               19  [2521.0, 2522.0, 2523.0, 2524.0, 2529.0, 2530....   \n",
       "3441               18  [2522.0, 2523.0, 2524.0, 2529.0, 2530.0, 2531....   \n",
       "3442               17  [2523.0, 2524.0, 2529.0, 2530.0, 2531.0, 2532....   \n",
       "\n",
       "                                      Positions in LHCB   \n",
       "12    [-25.0, -24.0, -23.0, -22.0, -21.0, -20.0, -15...  \\\n",
       "13    [-25.0, -24.0, -23.0, -22.0, -21.0, -16.0, -15...   \n",
       "14    [-25.0, -24.0, -23.0, -22.0, -17.0, -16.0, -15...   \n",
       "15    [-25.0, -24.0, -23.0, -18.0, -17.0, -16.0, -15...   \n",
       "16    [-25.0, -24.0, -19.0, -18.0, -17.0, -16.0, -15...   \n",
       "...                                                 ...   \n",
       "3438  [-25.0, -24.0, -23.0, -22.0, -21.0, -20.0, -15...   \n",
       "3439  [-25.0, -24.0, -23.0, -22.0, -21.0, -16.0, -15...   \n",
       "3440  [-25.0, -24.0, -23.0, -22.0, -17.0, -16.0, -15...   \n",
       "3441  [-25.0, -24.0, -23.0, -18.0, -17.0, -16.0, -15...   \n",
       "3442  [-25.0, -24.0, -19.0, -18.0, -17.0, -16.0, -15...   \n",
       "\n",
       "      collides in ATLAS/CMS  collides in ALICE  collides in LHCB  \n",
       "12                    False               True              True  \n",
       "13                    False               True              True  \n",
       "14                    False               True              True  \n",
       "15                    False               True              True  \n",
       "16                    False               True              True  \n",
       "...                     ...                ...               ...  \n",
       "3438                   True               True              True  \n",
       "3439                   True               True              True  \n",
       "3440                   True               True              True  \n",
       "3441                   True               True              True  \n",
       "3442                   True               True              True  \n",
       "\n",
       "[1972 rows x 15 columns]"
      ]
     },
     "execution_count": 4,
     "metadata": {},
     "output_type": "execute_result"
    }
   ],
   "source": [
    "# Get BB schedule\n",
    "fname = \"filling_scheme/8b4e_1972b_1960_1178_1886_224bpi_12inj_800ns_bs200ns.json\"\n",
    "patt = fp.FillingPattern.from_json(fname)\n",
    "\n",
    "# Compute bb schedule\n",
    "patt.compute_beam_beam_schedule(n_lr_per_side=25)\n",
    "bbs_b1 = patt.b1.bb_schedule\n",
    "bbs_b2 = patt.b2.bb_schedule\n",
    "\n",
    "# Get list of bunches\n",
    "bbs_b1"
   ]
  },
  {
   "cell_type": "code",
   "execution_count": 5,
   "metadata": {},
   "outputs": [],
   "source": [
    "def fix_bb_elements(collider, bunch_nb, reset_collider=True, also_beam_2=False, print_final_result=False):\n",
    "    # Reset collider\n",
    "    if reset_collider:\n",
    "        for i, x in enumerate(collider.lhcb1.element_names):\n",
    "            if \"bb_lr\" in x or \"bb_ho\" in x:\n",
    "                collider.lhcb1.element_refs[x].scale_strength = 1\n",
    "        for i, x in enumerate(collider.lhcb2.element_names):\n",
    "            if \"bb_lr\" in x or \"bb_ho\" in x:\n",
    "                collider.lhcb2.element_refs[x].scale_strength = 1\n",
    "\n",
    "    # Take care of LR elements\n",
    "    for ip, name_position in zip(\n",
    "        [1, 2, 5, 8],\n",
    "        [\n",
    "            \"Positions in ATLAS/CMS\",\n",
    "            \"Positions in ALICE\",\n",
    "            \"Positions in ATLAS/CMS\",\n",
    "            \"Positions in LHCB\",\n",
    "        ],\n",
    "    ):\n",
    "        # Deactivate elements that shouldn't be here in beam 1\n",
    "        idx_elements_b1 = bbs_b1.loc[bunch_nb][name_position]\n",
    "        for i, x in enumerate(collider.lhcb1.element_names):\n",
    "            # print(collider.lhcb1[x].to_dict())\n",
    "            # First look for bb_elements for current IP\n",
    "            if \"bb_lr.l\" + str(ip) in x or \"bb_lr.r\" + str(ip) in x:\n",
    "                # Then only keep elements corresponding to the current IP\n",
    "                pos = int(x.split(\"_\")[2])\n",
    "                if \"l\" in x.split(\"lr.\")[1]:\n",
    "                    pos = -pos\n",
    "                if pos not in idx_elements_b1:\n",
    "                    collider.lhcb1.element_refs[x].scale_strength = 0\n",
    "\n",
    "        # Same with beam 2\n",
    "        if also_beam_2:\n",
    "            idx_elements_b2 = bbs_b2.loc[bunch_nb][name_position]\n",
    "            for i, x in enumerate(collider.lhcb2.element_names):\n",
    "                if \"bb_lr.l\" + str(ip) in x or \"bb_lr.r\" + str(ip) in x:\n",
    "                    pos = int(x.split(\"_\")[2])\n",
    "                    if \"l\" in x.split(\"lr.\")[1]:\n",
    "                        pos = -pos\n",
    "                    if pos not in idx_elements_b2:\n",
    "                        collider.lhcb2.element_refs[x].scale_strength = 0\n",
    "\n",
    "    # Take care of HO elements\n",
    "    for ip, bool_collide in zip(\n",
    "        [1, 2, 5, 8],\n",
    "        [\"collides in ATLAS/CMS\", \"collides in ALICE\", \"collides in ATLAS/CMS\", \"collides in LHCB\"],\n",
    "    ):\n",
    "        collide_b1 = bbs_b1.loc[bunch_nb][bool_collide]\n",
    "\n",
    "        # Deactivate elements that shouldn't be here in beam 1\n",
    "        for i, x in enumerate(collider.lhcb1.element_names):\n",
    "            # First look for bb_elements\n",
    "            if (\n",
    "                \"bb_ho.l\" + str(ip) in x or \"bb_ho.r\" + str(ip) in x or \"bb_ho.c\" + str(ip) in x\n",
    "            ) and not collide_b1:\n",
    "                collider.lhcb1.element_refs[x].scale_strength = 0\n",
    "\n",
    "        # Same with beam 2\n",
    "        if also_beam_2:\n",
    "            collide_b2 = bbs_b2.loc[bunch_nb][bool_collide]\n",
    "            for i, x in enumerate(collider.lhcb2.element_names):\n",
    "                if (\n",
    "                    \"bb_ho.l\" + str(ip) in x or \"bb_ho.r\" + str(ip) in x or \"bb_ho.c\" + str(ip) in x\n",
    "                ) and not collide_b2:\n",
    "                    collider.lhcb2.element_refs[x].scale_strength = 0\n",
    "\n",
    "    # Print final result\n",
    "    if print_final_result:\n",
    "        # Beam 1\n",
    "        print(\"Beam 1\")\n",
    "        for i, x in enumerate(collider.lhcb1.element_names):\n",
    "            if \"bb_ho\" in x or \"bb_lr\" in x:\n",
    "                print(x, collider.lhcb1.element_refs[x].scale_strength._value)\n",
    "\n",
    "        # Beam 2\n",
    "        if also_beam_2:\n",
    "            print(\"Beam 2\")\n",
    "            for i, x in enumerate(collider.lhcb2.element_names):\n",
    "                if \"bb_ho\" in x or \"bb_lr\" in x:\n",
    "                    print(x, collider.lhcb2.element_refs[x].scale_strength._value)\n",
    "\n",
    "    # Return collider\n",
    "    return collider"
   ]
  },
  {
   "attachments": {},
   "cell_type": "markdown",
   "metadata": {},
   "source": [
    "## Plot footprint for a given bunch"
   ]
  },
  {
   "attachments": {},
   "cell_type": "markdown",
   "metadata": {},
   "source": [
    "Coupling correction due to the lattice (```delta_cmr``` and ```delta_cmi``` in pymask) are ignored as they're not very relevant for the coupling study."
   ]
  },
  {
   "cell_type": "code",
   "execution_count": 6,
   "metadata": {},
   "outputs": [],
   "source": [
    "plot_evolution_with_nturns = False\n",
    "if plot_evolution_with_nturns:\n",
    "    bunch_nb = 23\n",
    "    collider = fix_bb_elements(\n",
    "        collider, bunch_nb, reset_collider=True, also_beam_2=False, print_final_result=False\n",
    "    )\n",
    "    for n_turns in [100, 500, 1000, 5000, 20000]:\n",
    "        # Plot footprint\n",
    "        fp_polar_xm = collider[\"lhcb1\"].get_footprint(\n",
    "            nemitt_x=2.5e-6,\n",
    "            nemitt_y=2.5e-6,\n",
    "            n_turns=n_turns,\n",
    "            linear_rescale_on_knobs=[\n",
    "                xt.LinearRescale(knob_name=\"beambeam_scale\", v0=0.0, dv=0.1 / 2)\n",
    "            ],\n",
    "        )\n",
    "\n",
    "        fig, ax = plt.subplots(1, 1, figsize=(8, 8))\n",
    "        fp_polar_xm.plot(ax=ax)\n",
    "        ax.set_title(f\"Footprint for {n_turns} turns\")\n",
    "        # plt.show()\n",
    "        plt.savefig(f\"output/footprint_xm_{n_turns}.png\")"
   ]
  },
  {
   "cell_type": "code",
   "execution_count": 7,
   "metadata": {},
   "outputs": [],
   "source": [
    "check_result_without_coupling = False\n",
    "# Check result without coupling\n",
    "if check_result_without_coupling:\n",
    "    # Save values before changing anything\n",
    "    c_minus_re_b1_before_correction = collider.vars[\"c_minus_re_b1\"]._value\n",
    "    c_minus_re_b2_before_correction = collider.vars[\"c_minus_re_b2\"]._value\n",
    "    c_minus_im_b1_before_correction = collider.vars[\"c_minus_im_b1\"]._value\n",
    "    c_minus_im_b2_before_correction = collider.vars[\"c_minus_im_b2\"]._value\n",
    "\n",
    "    # Set all couplings to zero\n",
    "    collider.vars[\"c_minus_re_b1\"] = 0\n",
    "    collider.vars[\"c_minus_im_b1\"] = 0\n",
    "    collider.vars[\"c_minus_re_b2\"] = 0\n",
    "    collider.vars[\"c_minus_im_b2\"] = 0\n",
    "\n",
    "    # Twiss just to be safe\n",
    "    collider[\"lhcb1\"].twiss()\n",
    "    collider[\"lhcb2\"].twiss()\n",
    "\n",
    "    # Plot footprint\n",
    "    fp_polar_xm = collider[\"lhcb1\"].get_footprint(\n",
    "        nemitt_x=2.5e-6,\n",
    "        nemitt_y=2.5e-6,\n",
    "        linear_rescale_on_knobs=[xt.LinearRescale(knob_name=\"beambeam_scale\", v0=0.0, dv=0.1 / 2)],\n",
    "    )\n",
    "\n",
    "    fig, ax = plt.subplots(1, 1, figsize=(8, 8))\n",
    "    fp_polar_xm.plot(ax=ax, label=\"no rescale bb\")\n",
    "    plt.show()\n",
    "\n",
    "    # Reset values\n",
    "    collider.vars[\"c_minus_re_b1\"] = c_minus_re_b1_before_correction\n",
    "    collider.vars[\"c_minus_im_b1\"] = c_minus_im_b1_before_correction\n",
    "    collider.vars[\"c_minus_re_b2\"] = c_minus_re_b2_before_correction\n",
    "    collider.vars[\"c_minus_im_b2\"] = c_minus_im_b2_before_correction"
   ]
  },
  {
   "attachments": {},
   "cell_type": "markdown",
   "metadata": {},
   "source": [
    "### Get footprint for all bunches"
   ]
  },
  {
   "cell_type": "code",
   "execution_count": 8,
   "metadata": {},
   "outputs": [],
   "source": [
    "def return_footprint(collider, bunch_nb, n_turns):\n",
    "    # Adapt collider for current bunch\n",
    "    collider = fix_bb_elements(\n",
    "        collider, bunch_nb, reset_collider=True, also_beam_2=False, print_final_result=False\n",
    "    )\n",
    "    # Get footprint\n",
    "    fp_polar_xm = collider[\"lhcb1\"].get_footprint(\n",
    "        nemitt_x=2.5e-6,\n",
    "        nemitt_y=2.5e-6,\n",
    "        n_turns=n_turns,\n",
    "        linear_rescale_on_knobs=[\n",
    "            xt.LinearRescale(knob_name=\"beambeam_scale\", v0=0.0, dv=0.05)\n",
    "        ],\n",
    "    )\n",
    "\n",
    "    return [fp_polar_xm.qx, fp_polar_xm.qy]"
   ]
  },
  {
   "cell_type": "code",
   "execution_count": 22,
   "metadata": {},
   "outputs": [],
   "source": [
    "def run_footprint_in_parallel_scripts(collider, l_bunch_nb, n_turns):\n",
    "    wd = os.getcwd()\n",
    "\n",
    "    # Build a temporary folder for each bunch number\n",
    "    for bunch_nb in l_bunch_nb:\n",
    "        # Ensure you're in workind directory\n",
    "        os.chdir(wd)\n",
    "\n",
    "        # Create folder\n",
    "        folder_name = f\"output/{bunch_nb}\"\n",
    "        if not os.path.exists(folder_name):\n",
    "            os.makedirs(folder_name)\n",
    "\n",
    "        # Adapt collider\n",
    "        collider = fix_bb_elements(\n",
    "            collider, bunch_nb, reset_collider=True, also_beam_2=False, print_final_result=False\n",
    "        )\n",
    "\n",
    "        # Save collider as json\n",
    "        collider.to_json(f\"{folder_name}/collider_tuned_bb_on.json\")\n",
    "\n",
    "        # Build a file containing a python script in which I create collider and compute footprint\n",
    "        with open(f\"{folder_name}/footprint.py\", \"w\") as f:\n",
    "            f.write(f\"\"\"\n",
    "import pickle\n",
    "import xtrack as xt\n",
    "\n",
    "# Load collider\n",
    "collider = xt.Multiline.from_json(f\"collider_tuned_bb_on.json\")\n",
    "collider.build_trackers()\n",
    "\n",
    "# Compute footprint\n",
    "fp_polar_xm = collider[\"lhcb1\"].get_footprint(\n",
    "    nemitt_x=2.5e-6,\n",
    "    nemitt_y=2.5e-6,\n",
    "    n_turns={n_turns},\n",
    "    linear_rescale_on_knobs=[\n",
    "        xt.LinearRescale(knob_name=\"beambeam_scale\", v0=0.0, dv=0.05)\n",
    "    ],\n",
    ")\n",
    "\n",
    "# Save footprint\n",
    "with open(f\"fp_polar_xm.pkl\", \"wb\") as f:\n",
    "    pickle.dump([fp_polar_xm.qx, fp_polar_xm.qy], f)\n",
    "            \"\"\")\n",
    "        \n",
    "        # Move to the folder\n",
    "        os.chdir(f\"{folder_name}/\")\n",
    "\n",
    "        # Run script using subprocess\n",
    "        subprocess.run(f\"python footprint.py &\", shell=True)\n",
    "\n",
    "    # Move back to working directory\n",
    "    os.chdir(wd)"
   ]
  },
  {
   "cell_type": "code",
   "execution_count": 25,
   "metadata": {},
   "outputs": [
    {
     "name": "stdout",
     "output_type": "stream",
     "text": [
      "Running series 0 to 40\n",
      "Done loading line from dict.           \n",
      "Done loading line from dict.           \n",
      "Done loading line from dict.           \n",
      "Done loading line from dict.           \n",
      "Done loading line from dict.           \n",
      "Done loading line from dict.           \n",
      "Compiling ContextCpu kernels...\n",
      "Done loading line from dict.           \n",
      "Loading line from dict:  5%  \r"
     ]
    },
    {
     "name": "stderr",
     "output_type": "stream",
     "text": [
      "2df9fada1b4f43aa944c5145ac11cf8c.c:4280: warning: \"_GNU_SOURCE\" redefined\n",
      " 4280 | #  define _GNU_SOURCE // enable GNU libc NAN extension if possible\n",
      "      | \n",
      "In file included from 2df9fada1b4f43aa944c5145ac11cf8c.c:50:\n",
      "/afs/cern.ch/work/c/cdroin/private/xmask_DA_study/miniconda/include/python3.10/pyconfig.h:1621: note: this is the location of the previous definition\n",
      " 1621 | #define _GNU_SOURCE 1\n",
      "      | \n"
     ]
    },
    {
     "name": "stdout",
     "output_type": "stream",
     "text": [
      "Done loading line from dict.           \n",
      "Done loading line from dict.           \n",
      "Done loading line from dict.           \n",
      "Compiling ContextCpu kernels...\n",
      "Loading line from dict: 69%  \r"
     ]
    },
    {
     "name": "stderr",
     "output_type": "stream",
     "text": [
      "4716bc729eba438091c7886e0fad3783.c:4280: warning: \"_GNU_SOURCE\" redefined\n",
      " 4280 | #  define _GNU_SOURCE // enable GNU libc NAN extension if possible\n",
      "      | \n",
      "In file included from 4716bc729eba438091c7886e0fad3783.c:50:\n",
      "/afs/cern.ch/work/c/cdroin/private/xmask_DA_study/miniconda/include/python3.10/pyconfig.h:1621: note: this is the location of the previous definition\n",
      " 1621 | #define _GNU_SOURCE 1\n",
      "      | \n"
     ]
    },
    {
     "name": "stdout",
     "output_type": "stream",
     "text": [
      "Done loading line from dict.           \n",
      "Done loading line from dict.           ne from dict: 38%  \n",
      "Done loading line from dict.           \n",
      "Done loading line from dict.           \n",
      "Compiling ContextCpu kernels...\n",
      "Done compiling ContextCpu kernels.\n",
      "Loading line from dict: 69%  \r"
     ]
    },
    {
     "name": "stderr",
     "output_type": "stream",
     "text": [
      "a8c8ffbdffda48fcada7757c64e04a9c.c:4280: warning: \"_GNU_SOURCE\" redefined\n",
      " 4280 | #  define _GNU_SOURCE // enable GNU libc NAN extension if possible\n",
      "      | \n",
      "In file included from a8c8ffbdffda48fcada7757c64e04a9c.c:50:\n",
      "/afs/cern.ch/work/c/cdroin/private/xmask_DA_study/miniconda/include/python3.10/pyconfig.h:1621: note: this is the location of the previous definition\n",
      " 1621 | #define _GNU_SOURCE 1\n",
      "      | \n"
     ]
    },
    {
     "name": "stdout",
     "output_type": "stream",
     "text": [
      "Compiling ContextCpu kernels...\n",
      "Done loading line from dict.           \n",
      "Loading line from dict:  7%  \r"
     ]
    },
    {
     "name": "stderr",
     "output_type": "stream",
     "text": [
      "a3adf09cd43f4fbeb5a75d1efb05b351.c:4280: warning: \"_GNU_SOURCE\" redefined\n",
      " 4280 | #  define _GNU_SOURCE // enable GNU libc NAN extension if possible\n",
      "      | \n",
      "In file included from a3adf09cd43f4fbeb5a75d1efb05b351.c:50:\n",
      "/afs/cern.ch/work/c/cdroin/private/xmask_DA_study/miniconda/include/python3.10/pyconfig.h:1621: note: this is the location of the previous definition\n",
      " 1621 | #define _GNU_SOURCE 1\n",
      "      | \n"
     ]
    },
    {
     "name": "stdout",
     "output_type": "stream",
     "text": [
      "Done loading line from dict.           \n",
      "Done loading line from dict.           \n",
      "Done loading line from dict.           \n",
      "Done compiling ContextCpu kernels.\n",
      "Compiling ContextCpu kernels...\n",
      "Loading line from dict: 61%  \r"
     ]
    },
    {
     "name": "stderr",
     "output_type": "stream",
     "text": [
      "5e98819e0e2e4aef9090d4c64f69e3a3.c:4280: warning: \"_GNU_SOURCE\" redefined\n",
      " 4280 | #  define _GNU_SOURCE // enable GNU libc NAN extension if possible\n",
      "      | \n",
      "In file included from 5e98819e0e2e4aef9090d4c64f69e3a3.c:50:\n",
      "/afs/cern.ch/work/c/cdroin/private/xmask_DA_study/miniconda/include/python3.10/pyconfig.h:1621: note: this is the location of the previous definition\n",
      " 1621 | #define _GNU_SOURCE 1\n",
      "      | \n"
     ]
    },
    {
     "name": "stdout",
     "output_type": "stream",
     "text": [
      "Compiling ContextCpu kernels...\n",
      "Loading line from dict: 94%  \r"
     ]
    },
    {
     "name": "stderr",
     "output_type": "stream",
     "text": [
      "117f0c0646914e64b20ce723be898989.c:4280: warning: \"_GNU_SOURCE\" redefined\n",
      " 4280 | #  define _GNU_SOURCE // enable GNU libc NAN extension if possible\n",
      "      | \n",
      "In file included from 117f0c0646914e64b20ce723be898989.c:50:\n",
      "/afs/cern.ch/work/c/cdroin/private/xmask_DA_study/miniconda/include/python3.10/pyconfig.h:1621: note: this is the location of the previous definition\n",
      " 1621 | #define _GNU_SOURCE 1\n",
      "      | \n"
     ]
    },
    {
     "name": "stdout",
     "output_type": "stream",
     "text": [
      "Done loading line from dict.           \n",
      "Done loading line from dict.           \n",
      "Done loading line from dict.           \n",
      "Done loading line from dict.           \n",
      "Done compiling ContextCpu kernels.\n",
      "Compiling ContextCpu kernels...\n",
      "Done compiling ContextCpu kernels.\n",
      "Compiling ContextCpu kernels...\n",
      "Loading line from dict: 62%  \r"
     ]
    },
    {
     "name": "stderr",
     "output_type": "stream",
     "text": [
      "e3da675fc6054dd0bed32778603fabe3.c:4280: warning: \"_GNU_SOURCE\" redefined\n",
      " 4280 | #  define _GNU_SOURCE // enable GNU libc NAN extension if possible\n",
      "      | \n",
      "In file included from e3da675fc6054dd0bed32778603fabe3.c:50:\n",
      "/afs/cern.ch/work/c/cdroin/private/xmask_DA_study/miniconda/include/python3.10/pyconfig.h:1621: note: this is the location of the previous definition\n",
      " 1621 | #define _GNU_SOURCE 1\n",
      "      | \n",
      "318da9a942e24b9d9e5719e8fc058f2f.c:4280: warning: \"_GNU_SOURCE\" redefined\n",
      " 4280 | #  define _GNU_SOURCE // enable GNU libc NAN extension if possible\n",
      "      | \n",
      "In file included from 318da9a942e24b9d9e5719e8fc058f2f.c:50:\n",
      "/afs/cern.ch/work/c/cdroin/private/xmask_DA_study/miniconda/include/python3.10/pyconfig.h:1621: note: this is the location of the previous definition\n",
      " 1621 | #define _GNU_SOURCE 1\n",
      "      | \n"
     ]
    },
    {
     "name": "stdout",
     "output_type": "stream",
     "text": [
      "Compiling ContextCpu kernels...\n",
      "Done loading line from dict.           \n",
      "Done loading line from dict.           \n",
      "Done loading line from dict.           \n",
      "Done compiling ContextCpu kernels.\n",
      "Done loading line from dict.           \n",
      "Done compiling ContextCpu kernels.\n",
      "Compiling ContextCpu kernels...\n",
      "Compiling ContextCpu kernels...\n",
      "Loading line from dict: 57%  \r"
     ]
    },
    {
     "name": "stderr",
     "output_type": "stream",
     "text": [
      "6245d295d4c949ee8223f5eca4c058f3.c:4280: warning: \"_GNU_SOURCE\" redefined\n",
      " 4280 | #  define _GNU_SOURCE // enable GNU libc NAN extension if possible\n",
      "      | \n",
      "In file included from 6245d295d4c949ee8223f5eca4c058f3.c:50:\n",
      "/afs/cern.ch/work/c/cdroin/private/xmask_DA_study/miniconda/include/python3.10/pyconfig.h:1621: note: this is the location of the previous definition\n",
      " 1621 | #define _GNU_SOURCE 1\n",
      "      | \n",
      "dca93e6617a84e878f7fc024697c31b7.c:4280: warning: \"_GNU_SOURCE\" redefined\n",
      " 4280 | #  define _GNU_SOURCE // enable GNU libc NAN extension if possible\n",
      "      | \n",
      "In file included from dca93e6617a84e878f7fc024697c31b7.c:50:\n",
      "/afs/cern.ch/work/c/cdroin/private/xmask_DA_study/miniconda/include/python3.10/pyconfig.h:1621: note: this is the location of the previous definition\n",
      " 1621 | #define _GNU_SOURCE 1\n",
      "      | \n"
     ]
    },
    {
     "name": "stdout",
     "output_type": "stream",
     "text": [
      "Compiling ContextCpu kernels...\n",
      "Done loading line from dict.           \n",
      "Done compiling ContextCpu kernels.\n",
      "Compiling ContextCpu kernels...\n",
      "Done loading line from dict.           \n",
      "Done loading line from dict.           \n",
      "Done loading line from dict.           \n",
      "Done compiling ContextCpu kernels.\n",
      "Done compiling ContextCpu kernels.\n",
      "Compiling ContextCpu kernels...\n",
      "Compiling ContextCpu kernels...\n",
      "Loading line from dict: 62%  \r"
     ]
    },
    {
     "name": "stderr",
     "output_type": "stream",
     "text": [
      "275c8599cb594277a7142c1658cea30c.c:4280: warning: \"_GNU_SOURCE\" redefined\n",
      " 4280 | #  define _GNU_SOURCE // enable GNU libc NAN extension if possible\n",
      "      | \n",
      "In file included from 275c8599cb594277a7142c1658cea30c.c:50:\n",
      "/afs/cern.ch/work/c/cdroin/private/xmask_DA_study/miniconda/include/python3.10/pyconfig.h:1621: note: this is the location of the previous definition\n",
      " 1621 | #define _GNU_SOURCE 1\n",
      "      | \n",
      "56dc36d2a225435b8f21891eae2cd1b6.c:4280: warning: \"_GNU_SOURCE\" redefined\n",
      " 4280 | #  define _GNU_SOURCE // enable GNU libc NAN extension if possible\n",
      "      | \n",
      "In file included from 56dc36d2a225435b8f21891eae2cd1b6.c:50:\n",
      "/afs/cern.ch/work/c/cdroin/private/xmask_DA_study/miniconda/include/python3.10/pyconfig.h:1621: note: this is the location of the previous definition\n",
      " 1621 | #define _GNU_SOURCE 1\n",
      "      | \n"
     ]
    },
    {
     "name": "stdout",
     "output_type": "stream",
     "text": [
      "Done loading line from dict.           \n",
      "Done compiling ContextCpu kernels.\n",
      "Compiling ContextCpu kernels...\n",
      "Done compiling ContextCpu kernels.om dict: 51%  \n",
      "Compiling ContextCpu kernels...\n",
      "Done loading line from dict.           \n",
      "Tracking particles for footprint...\n",
      "Done loading line from dict.           \n",
      "Done compiling ContextCpu kernels.\n",
      "Done compiling ContextCpu kernels.\n",
      "Done loading line from dict.           \n",
      "Compiling ContextCpu kernels...\n",
      "Loading line from dict: 51%  \r"
     ]
    },
    {
     "name": "stderr",
     "output_type": "stream",
     "text": [
      "1e376d1cb11d43a4ad27ea1488ac3b78.c:4280: warning: \"_GNU_SOURCE\" redefined\n",
      " 4280 | #  define _GNU_SOURCE // enable GNU libc NAN extension if possible\n",
      "      | \n",
      "In file included from 1e376d1cb11d43a4ad27ea1488ac3b78.c:50:\n",
      "/afs/cern.ch/work/c/cdroin/private/xmask_DA_study/miniconda/include/python3.10/pyconfig.h:1621: note: this is the location of the previous definition\n",
      " 1621 | #define _GNU_SOURCE 1\n",
      "      | \n"
     ]
    },
    {
     "name": "stdout",
     "output_type": "stream",
     "text": [
      "Done loading line from dict.           \n",
      "Done compiling ContextCpu kernels.\n",
      "Loading line from dict: 27%  "
     ]
    },
    {
     "name": "stderr",
     "output_type": "stream",
     "text": [
      "7eb22a68083240229b3762d753e3a56b.c:4280: warning: \"_GNU_SOURCE\" redefined\n",
      " 4280 | #  define _GNU_SOURCE // enable GNU libc NAN extension if possible\n",
      "      | \n",
      "In file included from 7eb22a68083240229b3762d753e3a56b.c:50:\n",
      "/afs/cern.ch/work/c/cdroin/private/xmask_DA_study/miniconda/include/python3.10/pyconfig.h:1621: note: this is the location of the previous definition\n",
      " 1621 | #define _GNU_SOURCE 1\n",
      "      | \n"
     ]
    },
    {
     "name": "stdout",
     "output_type": "stream",
     "text": [
      "Compiling ContextCpu kernels...\n",
      "Done compiling ContextCpu kernels.\n",
      "Done loading line from dict.           \n",
      "Compiling ContextCpu kernels...\n",
      "Compiling ContextCpu kernels...\n",
      "Tracking particles for footprint...\n",
      "Done loading line from dict.           \n",
      "Done compiling ContextCpu kernels.\n",
      "Done loading line from dict.           \n",
      "Done compiling ContextCpu kernels.\n",
      "Compiling ContextCpu kernels...\n",
      "Compiling ContextCpu kernels...\n",
      "Compiling ContextCpu kernels...\n",
      "Loading line from dict: 82%  \r"
     ]
    },
    {
     "name": "stderr",
     "output_type": "stream",
     "text": [
      "fd0cf13d6c9e47dab0c3dc40f4e11efe.c:4280: warning: \"_GNU_SOURCE\" redefined\n",
      " 4280 | #  define _GNU_SOURCE // enable GNU libc NAN extension if possible\n",
      "      | \n",
      "In file included from fd0cf13d6c9e47dab0c3dc40f4e11efe.c:50:\n",
      "/afs/cern.ch/work/c/cdroin/private/xmask_DA_study/miniconda/include/python3.10/pyconfig.h:1621: note: this is the location of the previous definition\n",
      " 1621 | #define _GNU_SOURCE 1\n",
      "      | \n",
      "af9e448b27ea4d6bb57433a44f6ebf9b.c:4280: warning: \"_GNU_SOURCE\" redefined\n",
      " 4280 | #  define _GNU_SOURCE // enable GNU libc NAN extension if possible\n",
      "      | \n",
      "In file included from af9e448b27ea4d6bb57433a44f6ebf9b.c:50:\n",
      "/afs/cern.ch/work/c/cdroin/private/xmask_DA_study/miniconda/include/python3.10/pyconfig.h:1621: note: this is the location of the previous definition\n",
      " 1621 | #define _GNU_SOURCE 1\n",
      "      | \n"
     ]
    },
    {
     "name": "stdout",
     "output_type": "stream",
     "text": [
      "Done loading line from dict.           \n",
      "Done loading line from dict.           \n",
      "Done compiling ContextCpu kernels.\n",
      "Done compiling ContextCpu kernels.\n",
      "Compiling ContextCpu kernels...\n",
      "Tracking particles for footprint...\n",
      "Done compiling ContextCpu kernels.\n",
      "Done loading line from dict.           \n",
      "Compiling ContextCpu kernels...\n",
      "Compiling ContextCpu kernels...\n",
      "Loading line from dict: 76%  \r"
     ]
    },
    {
     "name": "stderr",
     "output_type": "stream",
     "text": [
      "b5aa9c4822f541be84917a6fe1cb0dba.c:4280: warning: \"_GNU_SOURCE\" redefined\n",
      " 4280 | #  define _GNU_SOURCE // enable GNU libc NAN extension if possible\n",
      "      | \n",
      "In file included from b5aa9c4822f541be84917a6fe1cb0dba.c:50:\n",
      "/afs/cern.ch/work/c/cdroin/private/xmask_DA_study/miniconda/include/python3.10/pyconfig.h:1621: note: this is the location of the previous definition\n",
      " 1621 | #define _GNU_SOURCE 1\n",
      "      | \n",
      "8980e55a01d1413190145bed509415c8.c:4280: warning: \"_GNU_SOURCE\" redefined\n",
      " 4280 | #  define _GNU_SOURCE // enable GNU libc NAN extension if possible\n",
      "      | \n",
      "In file included from 8980e55a01d1413190145bed509415c8.c:50:\n",
      "/afs/cern.ch/work/c/cdroin/private/xmask_DA_study/miniconda/include/python3.10/pyconfig.h:1621: note: this is the location of the previous definition\n",
      " 1621 | #define _GNU_SOURCE 1\n",
      "      | \n"
     ]
    },
    {
     "name": "stdout",
     "output_type": "stream",
     "text": [
      "Done compiling ContextCpu kernels.\n",
      "Done loading line from dict.           \n",
      "Compiling ContextCpu kernels...\n",
      "Done compiling ContextCpu kernels.\n",
      "Done loading line from dict.           \n",
      "Loading line from dict: 15%  \r"
     ]
    },
    {
     "name": "stderr",
     "output_type": "stream",
     "text": [
      "a43ae272ca74460daadeed41b12777dc.c:4280: warning: \"_GNU_SOURCE\" redefined\n",
      " 4280 | #  define _GNU_SOURCE // enable GNU libc NAN extension if possible\n",
      "      | \n",
      "In file included from a43ae272ca74460daadeed41b12777dc.c:50:\n",
      "/afs/cern.ch/work/c/cdroin/private/xmask_DA_study/miniconda/include/python3.10/pyconfig.h:1621: note: this is the location of the previous definition\n",
      " 1621 | #define _GNU_SOURCE 1\n",
      "      | \n"
     ]
    },
    {
     "name": "stdout",
     "output_type": "stream",
     "text": [
      "Compiling ContextCpu kernels...\n",
      "Done compiling ContextCpu kernels.\n",
      "Tracking particles for footprint...\n",
      "Done loading line from dict.           \n",
      "Done loading line from dict.           \n",
      "Done compiling ContextCpu kernels.\n",
      "Done compiling ContextCpu kernels.\n",
      "Compiling ContextCpu kernels...\n",
      "Compiling ContextCpu kernels...\n",
      "Done loading line from dict.           \n",
      "Compiling ContextCpu kernels...\n",
      "Done compiling ContextCpu kernels.\n",
      "Tracking particles for footprint...\n",
      "Loading line from dict: 89%  \r"
     ]
    },
    {
     "name": "stderr",
     "output_type": "stream",
     "text": [
      "5e73e161fe3e44f6b225c46432c54327.c:4280: warning: \"_GNU_SOURCE\" redefined\n",
      " 4280 | #  define _GNU_SOURCE // enable GNU libc NAN extension if possible\n",
      "      | \n",
      "In file included from 5e73e161fe3e44f6b225c46432c54327.c:50:\n",
      "/afs/cern.ch/work/c/cdroin/private/xmask_DA_study/miniconda/include/python3.10/pyconfig.h:1621: note: this is the location of the previous definition\n",
      " 1621 | #define _GNU_SOURCE 1\n",
      "      | \n"
     ]
    },
    {
     "name": "stdout",
     "output_type": "stream",
     "text": [
      "Done loading line from dict.           \n",
      "Loading line from dict: 15%  \r"
     ]
    },
    {
     "name": "stderr",
     "output_type": "stream",
     "text": [
      "b341ad086c124463b062587d26c89ce2.c:4280: warning: \"_GNU_SOURCE\" redefined\n",
      " 4280 | #  define _GNU_SOURCE // enable GNU libc NAN extension if possible\n",
      "      | \n",
      "In file included from b341ad086c124463b062587d26c89ce2.c:50:\n",
      "/afs/cern.ch/work/c/cdroin/private/xmask_DA_study/miniconda/include/python3.10/pyconfig.h:1621: note: this is the location of the previous definition\n",
      " 1621 | #define _GNU_SOURCE 1\n",
      "      | \n"
     ]
    },
    {
     "name": "stdout",
     "output_type": "stream",
     "text": [
      "Done compiling ContextCpu kernels.\n",
      "Compiling ContextCpu kernels...\n",
      "Done loading line from dict.           \n",
      "Done compiling ContextCpu kernels.\n",
      "Done compiling ContextCpu kernels.\n",
      "Done loading line from dict.           \n",
      "Compiling ContextCpu kernels...\n",
      "Compiling ContextCpu kernels...\n",
      "Done compiling ContextCpu kernels.\n",
      "Done loading line from dict.           \n",
      "Compiling ContextCpu kernels...\n",
      "Compiling ContextCpu kernels...\n",
      "Loading line from dict: 75%  \r"
     ]
    },
    {
     "name": "stderr",
     "output_type": "stream",
     "text": [
      "c8721c4d3d6042e687af90d9680cdf5b.c:4280: warning: \"_GNU_SOURCE\" redefined\n",
      " 4280 | #  define _GNU_SOURCE // enable GNU libc NAN extension if possible\n",
      "      | \n",
      "In file included from c8721c4d3d6042e687af90d9680cdf5b.c:50:\n",
      "/afs/cern.ch/work/c/cdroin/private/xmask_DA_study/miniconda/include/python3.10/pyconfig.h:1621: note: this is the location of the previous definition\n",
      " 1621 | #define _GNU_SOURCE 1\n",
      "      | \n"
     ]
    },
    {
     "name": "stdout",
     "output_type": "stream",
     "text": [
      "Done loading line from dict.           \n",
      "Done loading line from dict.           \n",
      "Done compiling ContextCpu kernels.\n",
      "Done loading line from dict.           \n",
      "Done compiling ContextCpu kernels.\n",
      "Tracking particles for footprint...\n",
      "Compiling ContextCpu kernels...\n",
      "Done compiling ContextCpu kernels.\n",
      "Done loading line from dict.           \n",
      "Compiling ContextCpu kernels...\n",
      "Done compiling ContextCpu kernels.\n",
      "Compiling ContextCpu kernels...\n",
      "Compiling ContextCpu kernels...\n",
      "Done compiling ContextCpu kernels.\n",
      "Loading line from dict: 75%  \r"
     ]
    },
    {
     "name": "stderr",
     "output_type": "stream",
     "text": [
      "52677f5e30184eb6bb49e1b477192394.c:4280: warning: \"_GNU_SOURCE\" redefined\n",
      " 4280 | #  define _GNU_SOURCE // enable GNU libc NAN extension if possible\n",
      "      | \n",
      "In file included from 52677f5e30184eb6bb49e1b477192394.c:50:\n",
      "/afs/cern.ch/work/c/cdroin/private/xmask_DA_study/miniconda/include/python3.10/pyconfig.h:1621: note: this is the location of the previous definition\n",
      " 1621 | #define _GNU_SOURCE 1\n",
      "      | \n"
     ]
    },
    {
     "name": "stdout",
     "output_type": "stream",
     "text": [
      "Tracking particles for footprint...\n",
      "Loading line from dict: 87%  \r"
     ]
    },
    {
     "name": "stderr",
     "output_type": "stream",
     "text": [
      "347154d2bd8b4ca0a6a74abe862864e7.c:4280: warning: \"_GNU_SOURCE\" redefined\n",
      " 4280 | #  define _GNU_SOURCE // enable GNU libc NAN extension if possible\n",
      "      | \n",
      "In file included from 347154d2bd8b4ca0a6a74abe862864e7.c:50:\n",
      "/afs/cern.ch/work/c/cdroin/private/xmask_DA_study/miniconda/include/python3.10/pyconfig.h:1621: note: this is the location of the previous definition\n",
      " 1621 | #define _GNU_SOURCE 1\n",
      "      | \n"
     ]
    },
    {
     "name": "stdout",
     "output_type": "stream",
     "text": [
      "Done loading line from dict.           \n",
      "Done tracking.rom dict: 33%  \n",
      "Computing footprint...: 81%  \n",
      "Done loading line from dict.           : 86%  \n",
      "Done computing footprint.9%  \n",
      "Tracking particles for footprint...\n",
      "Done loading line from dict.           \n",
      "Done compiling ContextCpu kernels.\n",
      "Compiling ContextCpu kernels...\n",
      "Done compiling ContextCpu kernels.\n",
      "Done loading line from dict.           \n",
      "Loading line from dict: 27%  Compiling ContextCpu kernels...\n",
      "Done compiling ContextCpu kernels.\n",
      "Compiling ContextCpu kernels...\n",
      "Done compiling ContextCpu kernels.\n",
      "Tracking particles for footprint...\n",
      "Loading line from dict: 62%  \r"
     ]
    },
    {
     "name": "stderr",
     "output_type": "stream",
     "text": [
      "1984970fc35b4f7e80bd878ed27cfd7e.c:4280: warning: \"_GNU_SOURCE\" redefined\n",
      " 4280 | #  define _GNU_SOURCE // enable GNU libc NAN extension if possible\n",
      "      | \n",
      "In file included from 1984970fc35b4f7e80bd878ed27cfd7e.c:50:\n",
      "/afs/cern.ch/work/c/cdroin/private/xmask_DA_study/miniconda/include/python3.10/pyconfig.h:1621: note: this is the location of the previous definition\n",
      " 1621 | #define _GNU_SOURCE 1\n",
      "      | \n"
     ]
    },
    {
     "name": "stdout",
     "output_type": "stream",
     "text": [
      "Compiling ContextCpu kernels...\n",
      "Done loading line from dict.           \n",
      "Loading line from dict:  0%  \r"
     ]
    },
    {
     "name": "stderr",
     "output_type": "stream",
     "text": [
      "6fb7679304fa408baef3fc04df476b1f.c:4280: warning: \"_GNU_SOURCE\" redefined\n",
      " 4280 | #  define _GNU_SOURCE // enable GNU libc NAN extension if possible\n",
      "      | \n",
      "In file included from 6fb7679304fa408baef3fc04df476b1f.c:50:\n",
      "/afs/cern.ch/work/c/cdroin/private/xmask_DA_study/miniconda/include/python3.10/pyconfig.h:1621: note: this is the location of the previous definition\n",
      " 1621 | #define _GNU_SOURCE 1\n",
      "      | \n"
     ]
    },
    {
     "name": "stdout",
     "output_type": "stream",
     "text": [
      "Done tracking.rom dict: 80%  \n",
      "Computing footprint...\n",
      "Done loading line from dict.           \n",
      "Done computing footprint.2%  \n",
      "Tracking particles for footprint...\n",
      "Done loading line from dict.           \n",
      "Done compiling ContextCpu kernels.\n",
      "Done loading line from dict.           \n",
      "Done compiling ContextCpu kernels.\n",
      "Compiling ContextCpu kernels...\n",
      "Done compiling ContextCpu kernels.\n",
      "Compiling ContextCpu kernels...\n",
      "Compiling ContextCpu kernels...\n",
      "Done compiling ContextCpu kernels.\n",
      "Tracking particles for footprint...\n",
      "Compiling ContextCpu kernels...\n",
      "Loading line from dict: 81%  \r"
     ]
    },
    {
     "name": "stderr",
     "output_type": "stream",
     "text": [
      "0cc93393f6e048d6b11b5899ab19a831.c:4280: warning: \"_GNU_SOURCE\" redefined\n",
      " 4280 | #  define _GNU_SOURCE // enable GNU libc NAN extension if possible\n",
      "      | \n",
      "In file included from 0cc93393f6e048d6b11b5899ab19a831.c:50:\n",
      "/afs/cern.ch/work/c/cdroin/private/xmask_DA_study/miniconda/include/python3.10/pyconfig.h:1621: note: this is the location of the previous definition\n",
      " 1621 | #define _GNU_SOURCE 1\n",
      "      | \n",
      "90293dc29da740cdabea053827225538.c:4280: warning: \"_GNU_SOURCE\" redefined\n",
      " 4280 | #  define _GNU_SOURCE // enable GNU libc NAN extension if possible\n",
      "      | \n",
      "In file included from 90293dc29da740cdabea053827225538.c:50:\n",
      "/afs/cern.ch/work/c/cdroin/private/xmask_DA_study/miniconda/include/python3.10/pyconfig.h:1621: note: this is the location of the previous definition\n",
      " 1621 | #define _GNU_SOURCE 1\n",
      "      | \n"
     ]
    },
    {
     "name": "stdout",
     "output_type": "stream",
     "text": [
      "Done loading line from dict.           \n",
      "Done loading line from dict.           \n",
      "Done tracking.rom dict: 67%  \n",
      "Computing footprint...\n",
      "Done computing footprint.7%  \n",
      "Done loading line from dict.           \n",
      "Tracking particles for footprint...\n",
      "Done compiling ContextCpu kernels.\n",
      "Done loading line from dict.           \n",
      "Compiling ContextCpu kernels...\n",
      "Done compiling ContextCpu kernels.\n",
      "Compiling ContextCpu kernels...\n",
      "Done compiling ContextCpu kernels.\n",
      "Loading line from dict: 64%  \r"
     ]
    },
    {
     "name": "stderr",
     "output_type": "stream",
     "text": [
      "7a99313498c84a04ac90acbf1da64925.c:4280: warning: \"_GNU_SOURCE\" redefined\n",
      " 4280 | #  define _GNU_SOURCE // enable GNU libc NAN extension if possible\n",
      "      | \n",
      "In file included from 7a99313498c84a04ac90acbf1da64925.c:50:\n",
      "/afs/cern.ch/work/c/cdroin/private/xmask_DA_study/miniconda/include/python3.10/pyconfig.h:1621: note: this is the location of the previous definition\n",
      " 1621 | #define _GNU_SOURCE 1\n",
      "      | \n",
      "6031a47d37884b9db5d180bdc8e042cc.c:4280: warning: \"_GNU_SOURCE\" redefined\n",
      " 4280 | #  define _GNU_SOURCE // enable GNU libc NAN extension if possible\n",
      "      | \n",
      "In file included from 6031a47d37884b9db5d180bdc8e042cc.c:50:\n",
      "/afs/cern.ch/work/c/cdroin/private/xmask_DA_study/miniconda/include/python3.10/pyconfig.h:1621: note: this is the location of the previous definition\n",
      " 1621 | #define _GNU_SOURCE 1\n",
      "      | \n"
     ]
    },
    {
     "name": "stdout",
     "output_type": "stream",
     "text": [
      "Tracking particles for footprint...\n",
      "Done loading line from dict.           \n",
      "Done compiling ContextCpu kernels.\n",
      "Compiling ContextCpu kernels...\n",
      "Compiling ContextCpu kernels...\n",
      "Done loading line from dict.           \n",
      "Done tracking.rom dict: 90%  \n",
      "Computing footprint...\n",
      "Done loading line from dict.           \n",
      "Done computing footprint.3%  \n",
      "Tracking particles for footprint...\n",
      "Done loading line from dict.           \n",
      "Done compiling ContextCpu kernels.\n",
      "Done compiling ContextCpu kernels.\n",
      "Compiling ContextCpu kernels...\n",
      "Loading line from dict: 42%  \r"
     ]
    },
    {
     "name": "stderr",
     "output_type": "stream",
     "text": [
      "3b192045fd744aecb66dc4ca4e6243e1.c:4280: warning: \"_GNU_SOURCE\" redefined\n",
      " 4280 | #  define _GNU_SOURCE // enable GNU libc NAN extension if possible\n",
      "      | \n",
      "In file included from 3b192045fd744aecb66dc4ca4e6243e1.c:50:\n",
      "/afs/cern.ch/work/c/cdroin/private/xmask_DA_study/miniconda/include/python3.10/pyconfig.h:1621: note: this is the location of the previous definition\n",
      " 1621 | #define _GNU_SOURCE 1\n",
      "      | \n"
     ]
    },
    {
     "name": "stdout",
     "output_type": "stream",
     "text": [
      "Compiling ContextCpu kernels...\n",
      "Compiling ContextCpu kernels...\n",
      "Loading line from dict: 74%  \r"
     ]
    },
    {
     "name": "stderr",
     "output_type": "stream",
     "text": [
      "3d18e9780bd0499aaa3d5762567c4a62.c:4280: warning: \"_GNU_SOURCE\" redefined\n",
      " 4280 | #  define _GNU_SOURCE // enable GNU libc NAN extension if possible\n",
      "      | \n",
      "In file included from 3d18e9780bd0499aaa3d5762567c4a62.c:50:\n",
      "/afs/cern.ch/work/c/cdroin/private/xmask_DA_study/miniconda/include/python3.10/pyconfig.h:1621: note: this is the location of the previous definition\n",
      " 1621 | #define _GNU_SOURCE 1\n",
      "      | \n"
     ]
    },
    {
     "name": "stdout",
     "output_type": "stream",
     "text": [
      "Done tracking.rom dict: 89%  \n",
      "Computing footprint...\n",
      "Done loading line from dict.           \n",
      "Done compiling ContextCpu kernels.\n",
      "Done computing footprint.4%  \n",
      "Tracking particles for footprint...\n",
      "Compiling ContextCpu kernels...ading line from dict: 51%  \n",
      "Done compiling ContextCpu kernels.\n",
      "Tracking particles for footprint...\n",
      "Done loading line from dict.           \n",
      "Done loading line from dict.           \n",
      "Done compiling ContextCpu kernels.\n",
      "Done compiling ContextCpu kernels.\n",
      "Done loading line from dict.           \n",
      "Compiling ContextCpu kernels...\n",
      "Compiling ContextCpu kernels...\n",
      "Compiling ContextCpu kernels...\n",
      "Loading line from dict: 77%  \r"
     ]
    },
    {
     "name": "stderr",
     "output_type": "stream",
     "text": [
      "a2684210ebb941d4812b8942dba9c856.c:4280: warning: \"_GNU_SOURCE\" redefined\n",
      " 4280 | #  define _GNU_SOURCE // enable GNU libc NAN extension if possible\n",
      "      | \n",
      "In file included from a2684210ebb941d4812b8942dba9c856.c:50:\n",
      "/afs/cern.ch/work/c/cdroin/private/xmask_DA_study/miniconda/include/python3.10/pyconfig.h:1621: note: this is the location of the previous definition\n",
      " 1621 | #define _GNU_SOURCE 1\n",
      "      | \n",
      "f25c5ee236dc486498cc9715a81bdfd0.c:4280: warning: \"_GNU_SOURCE\" redefined\n",
      " 4280 | #  define _GNU_SOURCE // enable GNU libc NAN extension if possible\n",
      "      | \n",
      "In file included from f25c5ee236dc486498cc9715a81bdfd0.c:50:\n",
      "/afs/cern.ch/work/c/cdroin/private/xmask_DA_study/miniconda/include/python3.10/pyconfig.h:1621: note: this is the location of the previous definition\n",
      " 1621 | #define _GNU_SOURCE 1\n",
      "      | \n"
     ]
    },
    {
     "name": "stdout",
     "output_type": "stream",
     "text": [
      "Done compiling ContextCpu kernels.\n",
      "Done loading line from dict.           \n",
      "Compiling ContextCpu kernels...\n",
      "Done compiling ContextCpu kernels.\n",
      "Tracking particles for footprint...\n",
      "Done loading line from dict.           \n",
      "Done loading line from dict.           \n",
      "Done tracking.rom dict: 78%  \n",
      "Computing footprint...\n",
      "Done compiling ContextCpu kernels.\n",
      "Done loading line from dict.           \n",
      "Done compiling ContextCpu kernels.\n",
      "Done computing footprint.3%  \n",
      "Compiling ContextCpu kernels...\n",
      "Tracking particles for footprint...\n",
      "Compiling ContextCpu kernels...\n",
      "Loading line from dict: 45%  \r"
     ]
    },
    {
     "name": "stderr",
     "output_type": "stream",
     "text": [
      "9381125bcf704e3485c692d3c2b7b0de.c:4280: warning: \"_GNU_SOURCE\" redefined\n",
      " 4280 | #  define _GNU_SOURCE // enable GNU libc NAN extension if possible\n",
      "      | \n",
      "In file included from 9381125bcf704e3485c692d3c2b7b0de.c:50:\n",
      "/afs/cern.ch/work/c/cdroin/private/xmask_DA_study/miniconda/include/python3.10/pyconfig.h:1621: note: this is the location of the previous definition\n",
      " 1621 | #define _GNU_SOURCE 1\n",
      "      | \n"
     ]
    },
    {
     "name": "stdout",
     "output_type": "stream",
     "text": [
      "Loading line from dict: 58%  \r"
     ]
    },
    {
     "name": "stderr",
     "output_type": "stream",
     "text": [
      "aed6045272c8444baf48922574be7a59.c:4280: warning: \"_GNU_SOURCE\" redefined\n",
      " 4280 | #  define _GNU_SOURCE // enable GNU libc NAN extension if possible\n",
      "      | \n",
      "In file included from aed6045272c8444baf48922574be7a59.c:50:\n",
      "/afs/cern.ch/work/c/cdroin/private/xmask_DA_study/miniconda/include/python3.10/pyconfig.h:1621: note: this is the location of the previous definition\n",
      " 1621 | #define _GNU_SOURCE 1\n",
      "      | \n"
     ]
    },
    {
     "name": "stdout",
     "output_type": "stream",
     "text": [
      "Compiling ContextCpu kernels...\n",
      "Done compiling ContextCpu kernels.\n",
      "Done loading line from dict.           \n",
      "Done tracking.rom dict: 21%  \n",
      "Computing footprint...\n",
      "Compiling ContextCpu kernels...\n",
      "Done compiling ContextCpu kernels.\n",
      "Done computing footprint.1%  \n",
      "Tracking particles for footprint...\n",
      "Tracking particles for footprint...\n",
      "Done loading line from dict.           \n",
      "Done loading line from dict.           \n",
      "Done tracking.rom dict:  7%  \n",
      "Computing footprint...\n",
      "Done computing footprint.2%  \n",
      "Done loading line from dict.           \n",
      "Done compiling ContextCpu kernels.\n",
      "Done compiling ContextCpu kernels.\n",
      "Compiling ContextCpu kernels...\n",
      "Compiling ContextCpu kernels...\n",
      "Loading line from dict: 62%  \r"
     ]
    },
    {
     "name": "stderr",
     "output_type": "stream",
     "text": [
      "7d0d8b00f79d407d91760843ab8d13c9.c:4280: warning: \"_GNU_SOURCE\" redefined\n",
      " 4280 | #  define _GNU_SOURCE // enable GNU libc NAN extension if possible\n",
      "      | \n",
      "In file included from 7d0d8b00f79d407d91760843ab8d13c9.c:50:\n",
      "/afs/cern.ch/work/c/cdroin/private/xmask_DA_study/miniconda/include/python3.10/pyconfig.h:1621: note: this is the location of the previous definition\n",
      " 1621 | #define _GNU_SOURCE 1\n",
      "      | \n"
     ]
    },
    {
     "name": "stdout",
     "output_type": "stream",
     "text": [
      "Compiling ContextCpu kernels...\n",
      "Loading line from dict: 71%  \r"
     ]
    },
    {
     "name": "stderr",
     "output_type": "stream",
     "text": [
      "93acb0e17aa94406b6370b2aba00531f.c:4280: warning: \"_GNU_SOURCE\" redefined\n",
      " 4280 | #  define _GNU_SOURCE // enable GNU libc NAN extension if possible\n",
      "      | \n",
      "In file included from 93acb0e17aa94406b6370b2aba00531f.c:50:\n",
      "/afs/cern.ch/work/c/cdroin/private/xmask_DA_study/miniconda/include/python3.10/pyconfig.h:1621: note: this is the location of the previous definition\n",
      " 1621 | #define _GNU_SOURCE 1\n",
      "      | \n"
     ]
    },
    {
     "name": "stdout",
     "output_type": "stream",
     "text": [
      "Done compiling ContextCpu kernels.\n",
      "Done loading line from dict.           \n",
      "Done tracking.rom dict:  5%  \n",
      "Computing footprint...\n",
      "Compiling ContextCpu kernels...\n",
      "Done compiling ContextCpu kernels.\n",
      "Done computing footprint.9%  \n",
      "Tracking particles for footprint...\n",
      "Tracking particles for footprint...\n",
      "Done loading line from dict.           \n",
      "Done tracking.rom dict: 94%  \n",
      "Computing footprint...\n",
      "Done loading line from dict.           \n",
      "Done computing footprint.7%  \n",
      "Done compiling ContextCpu kernels.\n",
      "Done compiling ContextCpu kernels.\n",
      "Done loading line from dict.           \n",
      "Compiling ContextCpu kernels...\n",
      "Compiling ContextCpu kernels...\n",
      "Compiling ContextCpu kernels...\n",
      "Loading line from dict: 57%  \r"
     ]
    },
    {
     "name": "stderr",
     "output_type": "stream",
     "text": [
      "c084094dc1b4476184a503ac9b7cba32.c:4280: warning: \"_GNU_SOURCE\" redefined\n",
      " 4280 | #  define _GNU_SOURCE // enable GNU libc NAN extension if possible\n",
      "      | \n",
      "In file included from c084094dc1b4476184a503ac9b7cba32.c:50:\n",
      "/afs/cern.ch/work/c/cdroin/private/xmask_DA_study/miniconda/include/python3.10/pyconfig.h:1621: note: this is the location of the previous definition\n",
      " 1621 | #define _GNU_SOURCE 1\n",
      "      | \n"
     ]
    },
    {
     "name": "stdout",
     "output_type": "stream",
     "text": [
      "Loading line from dict: 76%  \r"
     ]
    },
    {
     "name": "stderr",
     "output_type": "stream",
     "text": [
      "5447bd7f780245ceadbf2a70e281a223.c:4280: warning: \"_GNU_SOURCE\" redefined\n",
      " 4280 | #  define _GNU_SOURCE // enable GNU libc NAN extension if possible\n",
      "      | \n",
      "In file included from 5447bd7f780245ceadbf2a70e281a223.c:50:\n",
      "/afs/cern.ch/work/c/cdroin/private/xmask_DA_study/miniconda/include/python3.10/pyconfig.h:1621: note: this is the location of the previous definition\n",
      " 1621 | #define _GNU_SOURCE 1\n",
      "      | \n"
     ]
    },
    {
     "name": "stdout",
     "output_type": "stream",
     "text": [
      "Done compiling ContextCpu kernels.\n",
      "Done loading line from dict.           \n",
      "Compiling ContextCpu kernels...\n",
      "Done tracking.rom dict: 38%  \n",
      "Computing footprint...\n",
      "Done compiling ContextCpu kernels.\n",
      "Tracking particles for footprint...\n",
      "Done computing footprint.5%  \n",
      "Tracking particles for footprint...\n",
      "Done loading line from dict.           \n",
      "Done loading line from dict.           \n",
      "Done tracking.rom dict: 39%  \n",
      "Computing footprint...\n",
      "Done computing footprint.0%  \n",
      "Done loading line from dict.           \n",
      "Done compiling ContextCpu kernels.\n",
      "Done compiling ContextCpu kernels.\n",
      "Compiling ContextCpu kernels...\n",
      "Compiling ContextCpu kernels...\n",
      "Compiling ContextCpu kernels...\n",
      "Done compiling ContextCpu kernels.\n",
      "Loading line from dict: 72%  \r"
     ]
    },
    {
     "name": "stderr",
     "output_type": "stream",
     "text": [
      "90fa32c7fc094e428a964e379995c877.c:4280: warning: \"_GNU_SOURCE\" redefined\n",
      " 4280 | #  define _GNU_SOURCE // enable GNU libc NAN extension if possible\n",
      "      | \n",
      "In file included from 90fa32c7fc094e428a964e379995c877.c:50:\n",
      "/afs/cern.ch/work/c/cdroin/private/xmask_DA_study/miniconda/include/python3.10/pyconfig.h:1621: note: this is the location of the previous definition\n",
      " 1621 | #define _GNU_SOURCE 1\n",
      "      | \n",
      "0fe2142feca049f0ab10c7d15ce85d2b.c:4280: warning: \"_GNU_SOURCE\" redefined\n",
      " 4280 | #  define _GNU_SOURCE // enable GNU libc NAN extension if possible\n",
      "      | \n",
      "In file included from 0fe2142feca049f0ab10c7d15ce85d2b.c:50:\n",
      "/afs/cern.ch/work/c/cdroin/private/xmask_DA_study/miniconda/include/python3.10/pyconfig.h:1621: note: this is the location of the previous definition\n",
      " 1621 | #define _GNU_SOURCE 1\n",
      "      | \n"
     ]
    },
    {
     "name": "stdout",
     "output_type": "stream",
     "text": [
      "Done tracking.rom dict: 94%  \n",
      "Computing footprint...\n",
      "Compiling ContextCpu kernels...\n",
      "Done loading line from dict.           \n",
      "Done computing footprint.1%  \n",
      "Tracking particles for footprint...\n",
      "Done compiling ContextCpu kernels.\n",
      "Tracking particles for footprint...\n",
      "Done loading line from dict.           \n",
      "Done loading line from dict.           \n",
      "Done tracking.rom dict: 77%  \n",
      "Computing footprint...\n",
      "Done compiling ContextCpu kernels.\n",
      "Done loading line from dict.           \n",
      "Done computing footprint.0%  \n",
      "Done compiling ContextCpu kernels.\n",
      "Compiling ContextCpu kernels...\n",
      "Compiling ContextCpu kernels...\n",
      "Compiling ContextCpu kernels...\n",
      "Loading line from dict: 62%  \r"
     ]
    },
    {
     "name": "stderr",
     "output_type": "stream",
     "text": [
      "44d8ff45b4b441a3be940d5fa0b4b18c.c:4280: warning: \"_GNU_SOURCE\" redefined\n",
      " 4280 | #  define _GNU_SOURCE // enable GNU libc NAN extension if possible\n",
      "      | \n",
      "In file included from 44d8ff45b4b441a3be940d5fa0b4b18c.c:50:\n",
      "/afs/cern.ch/work/c/cdroin/private/xmask_DA_study/miniconda/include/python3.10/pyconfig.h:1621: note: this is the location of the previous definition\n",
      " 1621 | #define _GNU_SOURCE 1\n",
      "      | \n",
      "4929dac84b9b40449580e7bb1ed31f02.c:4280: warning: \"_GNU_SOURCE\" redefined\n",
      " 4280 | #  define _GNU_SOURCE // enable GNU libc NAN extension if possible\n",
      "      | \n",
      "In file included from 4929dac84b9b40449580e7bb1ed31f02.c:50:\n",
      "/afs/cern.ch/work/c/cdroin/private/xmask_DA_study/miniconda/include/python3.10/pyconfig.h:1621: note: this is the location of the previous definition\n",
      " 1621 | #define _GNU_SOURCE 1\n",
      "      | \n"
     ]
    },
    {
     "name": "stdout",
     "output_type": "stream",
     "text": [
      "Done compiling ContextCpu kernels.\n",
      "Done loading line from dict.           \n",
      "Compiling ContextCpu kernels...\n",
      "Done compiling ContextCpu kernels.\n",
      "Tracking particles for footprint...\n",
      "Done tracking.rom dict: 26%  \n",
      "Computing footprint...\n",
      "Done computing footprint.0%  \n",
      "Done loading line from dict.           \n",
      "Done tracking.rom dict: 93%  \n",
      "Computing footprint...\n",
      "Done loading line from dict.           \n",
      "Done computing footprint.5%  \n",
      "Tracking particles for footprint...\n",
      "Done loading line from dict.           \n",
      "Done compiling ContextCpu kernels.\n",
      "Done compiling ContextCpu kernels.\n",
      "Compiling ContextCpu kernels...\n",
      "Compiling ContextCpu kernels...\n",
      "Loading line from dict: 62%  \r"
     ]
    },
    {
     "name": "stderr",
     "output_type": "stream",
     "text": [
      "21657c6e5d1c493299f014107ba13f26.c:4280: warning: \"_GNU_SOURCE\" redefined\n",
      " 4280 | #  define _GNU_SOURCE // enable GNU libc NAN extension if possible\n",
      "      | \n",
      "In file included from 21657c6e5d1c493299f014107ba13f26.c:50:\n",
      "/afs/cern.ch/work/c/cdroin/private/xmask_DA_study/miniconda/include/python3.10/pyconfig.h:1621: note: this is the location of the previous definition\n",
      " 1621 | #define _GNU_SOURCE 1\n",
      "      | \n"
     ]
    },
    {
     "name": "stdout",
     "output_type": "stream",
     "text": [
      "Compiling ContextCpu kernels...\n",
      "Loading line from dict: 74%  \r"
     ]
    },
    {
     "name": "stderr",
     "output_type": "stream",
     "text": [
      "1248aa2d213b4ebb90d9032b9333108c.c:4280: warning: \"_GNU_SOURCE\" redefined\n",
      " 4280 | #  define _GNU_SOURCE // enable GNU libc NAN extension if possible\n",
      "      | \n",
      "In file included from 1248aa2d213b4ebb90d9032b9333108c.c:50:\n",
      "/afs/cern.ch/work/c/cdroin/private/xmask_DA_study/miniconda/include/python3.10/pyconfig.h:1621: note: this is the location of the previous definition\n",
      " 1621 | #define _GNU_SOURCE 1\n",
      "      | \n"
     ]
    },
    {
     "name": "stdout",
     "output_type": "stream",
     "text": [
      "Done compiling ContextCpu kernels.\n",
      "Done loading line from dict.           \n",
      "Compiling ContextCpu kernels...\n",
      "Done compiling ContextCpu kernels.\n",
      "Tracking particles for footprint...\n",
      "Done loading line from dict.           \n",
      "Done tracking.rom dict: 81%  \n",
      "Computing footprint...\n",
      "Done loading line from dict.           \n",
      "Done computing footprint.0%  \n",
      "Tracking particles for footprint...\n",
      "Done loading line from dict.           \n",
      "Done compiling ContextCpu kernels.\n",
      "Done compiling ContextCpu kernels.\n",
      "Compiling ContextCpu kernels...\n",
      "Compiling ContextCpu kernels...\n",
      "Loading line from dict: 67%  \r"
     ]
    },
    {
     "name": "stderr",
     "output_type": "stream",
     "text": [
      "d003c213ca41419eaab58bf4155f1fd6.c:4280: warning: \"_GNU_SOURCE\" redefined\n",
      " 4280 | #  define _GNU_SOURCE // enable GNU libc NAN extension if possible\n",
      "      | \n",
      "In file included from d003c213ca41419eaab58bf4155f1fd6.c:50:\n",
      "/afs/cern.ch/work/c/cdroin/private/xmask_DA_study/miniconda/include/python3.10/pyconfig.h:1621: note: this is the location of the previous definition\n",
      " 1621 | #define _GNU_SOURCE 1\n",
      "      | \n",
      "b1365930024a492fa0c034e683bd0f72.c:4280: warning: \"_GNU_SOURCE\" redefined\n",
      " 4280 | #  define _GNU_SOURCE // enable GNU libc NAN extension if possible\n",
      "      | \n",
      "In file included from b1365930024a492fa0c034e683bd0f72.c:50:\n",
      "/afs/cern.ch/work/c/cdroin/private/xmask_DA_study/miniconda/include/python3.10/pyconfig.h:1621: note: this is the location of the previous definition\n",
      " 1621 | #define _GNU_SOURCE 1\n",
      "      | \n"
     ]
    },
    {
     "name": "stdout",
     "output_type": "stream",
     "text": [
      "Compiling ContextCpu kernels...\n",
      "Done compiling ContextCpu kernels.\n",
      "Done loading line from dict.           \n",
      "Done tracking.rom dict:  6%  \n",
      "Computing footprint...\n",
      "Compiling ContextCpu kernels...\n",
      "Done computing footprint.0%  \n",
      "Done compiling ContextCpu kernels.\n",
      "Tracking particles for footprint...\n",
      "Done loading line from dict.           \n",
      "Done tracking.rom dict: 71%  \n",
      "Computing footprint...\n",
      "Done tracking.rom dict: 94%  \n",
      "Computing footprint...\n",
      "Done loading line from dict.           \n",
      "Done computing footprint.0%  \n",
      "Done computing footprint.6%  \n",
      "Tracking particles for footprint...\n",
      "Done compiling ContextCpu kernels.\n",
      "Done loading line from dict.           \n",
      "Done compiling ContextCpu kernels.\n",
      "Compiling ContextCpu kernels...\n",
      "Compiling ContextCpu kernels...\n",
      "Compiling ContextCpu kernels...\n",
      "Loading line from dict: 64%  \r"
     ]
    },
    {
     "name": "stderr",
     "output_type": "stream",
     "text": [
      "629363a4561c467f9e7347234ec647f2.c:4280: warning: \"_GNU_SOURCE\" redefined\n",
      " 4280 | #  define _GNU_SOURCE // enable GNU libc NAN extension if possible\n",
      "      | \n",
      "In file included from 629363a4561c467f9e7347234ec647f2.c:50:\n",
      "/afs/cern.ch/work/c/cdroin/private/xmask_DA_study/miniconda/include/python3.10/pyconfig.h:1621: note: this is the location of the previous definition\n",
      " 1621 | #define _GNU_SOURCE 1\n",
      "      | \n",
      "7b937bb9064249e0a4639ca928e09c63.c:4280: warning: \"_GNU_SOURCE\" redefined\n",
      " 4280 | #  define _GNU_SOURCE // enable GNU libc NAN extension if possible\n",
      "      | \n",
      "In file included from 7b937bb9064249e0a4639ca928e09c63.c:50:\n",
      "/afs/cern.ch/work/c/cdroin/private/xmask_DA_study/miniconda/include/python3.10/pyconfig.h:1621: note: this is the location of the previous definition\n",
      " 1621 | #define _GNU_SOURCE 1\n",
      "      | \n"
     ]
    },
    {
     "name": "stdout",
     "output_type": "stream",
     "text": [
      "Done loading line from dict.           \n",
      "Done compiling ContextCpu kernels.\n",
      "Compiling ContextCpu kernels...\n",
      "Done compiling ContextCpu kernels.\n",
      "Tracking particles for footprint...\n",
      "Done tracking.rom dict: 51%  \n",
      "Computing footprint...\n",
      "Done loading line from dict.           \n",
      "Done tracking.rom dict: 62%  \n",
      "Computing footprint...\n",
      "Done computing footprint.3%  \n",
      "Done computing footprint.2%  \n",
      "Tracking particles for footprint...\n",
      "Done loading line from dict.           \n",
      "Done compiling ContextCpu kernels.\n",
      "Done loading line from dict.           \n",
      "Done compiling ContextCpu kernels.\n",
      "Compiling ContextCpu kernels...\n",
      "Compiling ContextCpu kernels...\n",
      "Compiling ContextCpu kernels...\n",
      "Done compiling ContextCpu kernels.\n",
      "Done loading line from dict.           \n",
      "Loading line from dict: 13%  \r"
     ]
    },
    {
     "name": "stderr",
     "output_type": "stream",
     "text": [
      "266f21945f5a43a7b30dd921aba5553f.c:4280: warning: \"_GNU_SOURCE\" redefined\n",
      " 4280 | #  define _GNU_SOURCE // enable GNU libc NAN extension if possible\n",
      "      | \n",
      "In file included from 266f21945f5a43a7b30dd921aba5553f.c:50:\n",
      "/afs/cern.ch/work/c/cdroin/private/xmask_DA_study/miniconda/include/python3.10/pyconfig.h:1621: note: this is the location of the previous definition\n",
      " 1621 | #define _GNU_SOURCE 1\n",
      "      | \n",
      "23bde27a205849099ad00dd2e513805e.c:4280: warning: \"_GNU_SOURCE\" redefined\n",
      " 4280 | #  define _GNU_SOURCE // enable GNU libc NAN extension if possible\n",
      "      | \n",
      "In file included from 23bde27a205849099ad00dd2e513805e.c:50:\n",
      "/afs/cern.ch/work/c/cdroin/private/xmask_DA_study/miniconda/include/python3.10/pyconfig.h:1621: note: this is the location of the previous definition\n",
      " 1621 | #define _GNU_SOURCE 1\n",
      "      | \n"
     ]
    },
    {
     "name": "stdout",
     "output_type": "stream",
     "text": [
      "Compiling ContextCpu kernels...\n",
      "Done compiling ContextCpu kernels.\n",
      "Tracking particles for footprint...\n",
      "Done tracking.rom dict: 92%  \n",
      "Computing footprint...\n",
      "Done loading line from dict.           \n",
      "Done computing footprint.\n",
      "Tracking particles for footprint...\n",
      "Done tracking.\n",
      "Computing footprint...\n",
      "Done computing footprint.1%  \n",
      "Done compiling ContextCpu kernels.\n",
      "Done compiling ContextCpu kernels.\n",
      "Done loading line from dict.           \n",
      "Compiling ContextCpu kernels...\n",
      "Compiling ContextCpu kernels...\n",
      "Compiling ContextCpu kernels...\n",
      "Done compiling ContextCpu kernels.\n",
      "Compiling ContextCpu kernels...\n",
      "Loading line from dict: 81%  \r"
     ]
    },
    {
     "name": "stderr",
     "output_type": "stream",
     "text": [
      "8670a98b03e84cca92f004576f305a9b.c:4280: warning: \"_GNU_SOURCE\" redefined\n",
      " 4280 | #  define _GNU_SOURCE // enable GNU libc NAN extension if possible\n",
      "      | \n",
      "In file included from 8670a98b03e84cca92f004576f305a9b.c:50:\n",
      "/afs/cern.ch/work/c/cdroin/private/xmask_DA_study/miniconda/include/python3.10/pyconfig.h:1621: note: this is the location of the previous definition\n",
      " 1621 | #define _GNU_SOURCE 1\n",
      "      | \n",
      "1250c874d42348acabade2b73a1c6776.c:4280: warning: \"_GNU_SOURCE\" redefined\n",
      " 4280 | #  define _GNU_SOURCE // enable GNU libc NAN extension if possible\n",
      "      | \n",
      "In file included from 1250c874d42348acabade2b73a1c6776.c:50:\n",
      "/afs/cern.ch/work/c/cdroin/private/xmask_DA_study/miniconda/include/python3.10/pyconfig.h:1621: note: this is the location of the previous definition\n",
      " 1621 | #define _GNU_SOURCE 1\n",
      "      | \n"
     ]
    },
    {
     "name": "stdout",
     "output_type": "stream",
     "text": [
      "Done loading line from dict.           \n",
      "Done compiling ContextCpu kernels.\n",
      "Tracking particles for footprint...\n",
      "Done tracking.rom dict: 49%  \n",
      "Computing footprint...\n",
      "Done tracking.rom dict: 66%  \n",
      "Computing footprint...\n",
      "Done computing footprint.9%  \n",
      "Done computing footprint.9%  \n",
      "Done loading line from dict.           \n",
      "Tracking particles for footprint...\n",
      "Done loading line from dict.           ne from dict: 68%  \n",
      "Done compiling ContextCpu kernels.\n",
      "Done compiling ContextCpu kernels.\n",
      "Done loading line from dict.           \n",
      "Compiling ContextCpu kernels...\n",
      "Compiling ContextCpu kernels...\n",
      "Loading line from dict: 81%  \r"
     ]
    },
    {
     "name": "stderr",
     "output_type": "stream",
     "text": [
      "571f506c76a64feb91dee5be5f87be5d.c:4280: warning: \"_GNU_SOURCE\" redefined\n",
      " 4280 | #  define _GNU_SOURCE // enable GNU libc NAN extension if possible\n",
      "      | \n",
      "In file included from 571f506c76a64feb91dee5be5f87be5d.c:50:\n",
      "/afs/cern.ch/work/c/cdroin/private/xmask_DA_study/miniconda/include/python3.10/pyconfig.h:1621: note: this is the location of the previous definition\n",
      " 1621 | #define _GNU_SOURCE 1\n",
      "      | \n"
     ]
    },
    {
     "name": "stdout",
     "output_type": "stream",
     "text": [
      "Done compiling ContextCpu kernels.\n",
      "Done loading line from dict.           \n",
      "Done compiling ContextCpu kernels.\n",
      "Compiling ContextCpu kernels...\n",
      "Tracking particles for footprint...\n",
      "Compiling ContextCpu kernels...\n",
      "Done tracking.rom dict: 62%  \n",
      "Computing footprint...\n",
      "Done computing footprint.2%  \n",
      "Loading line from dict: 97%  \r"
     ]
    },
    {
     "name": "stderr",
     "output_type": "stream",
     "text": [
      "4ec7facf2ac548d5b470b467f2a064c1.c:4280: warning: \"_GNU_SOURCE\" redefined\n",
      " 4280 | #  define _GNU_SOURCE // enable GNU libc NAN extension if possible\n",
      "      | \n",
      "In file included from 4ec7facf2ac548d5b470b467f2a064c1.c:50:\n",
      "/afs/cern.ch/work/c/cdroin/private/xmask_DA_study/miniconda/include/python3.10/pyconfig.h:1621: note: this is the location of the previous definition\n",
      " 1621 | #define _GNU_SOURCE 1\n",
      "      | \n"
     ]
    },
    {
     "name": "stdout",
     "output_type": "stream",
     "text": [
      "Done loading line from dict.           \n",
      "Tracking particles for footprint...\n",
      "Done loading line from dict.           29%  \n",
      "Done loading line from dict.           \n",
      "Done compiling ContextCpu kernels.\n",
      "Done tracking.rom dict:  7%  \n",
      "Computing footprint...\n",
      "Done compiling ContextCpu kernels.\n",
      "Done computing footprint.0%  \n",
      "Compiling ContextCpu kernels...\n",
      "Done compiling ContextCpu kernels.\n",
      "Loading line from dict: 88%  \r"
     ]
    },
    {
     "name": "stderr",
     "output_type": "stream",
     "text": [
      "aa59103448f0490598e49cde325d2356.c:4280: warning: \"_GNU_SOURCE\" redefined\n",
      " 4280 | #  define _GNU_SOURCE // enable GNU libc NAN extension if possible\n",
      "      | \n",
      "In file included from aa59103448f0490598e49cde325d2356.c:50:\n",
      "/afs/cern.ch/work/c/cdroin/private/xmask_DA_study/miniconda/include/python3.10/pyconfig.h:1621: note: this is the location of the previous definition\n",
      " 1621 | #define _GNU_SOURCE 1\n",
      "      | \n"
     ]
    },
    {
     "name": "stdout",
     "output_type": "stream",
     "text": [
      "Done loading line from dict.           \n",
      "Compiling ContextCpu kernels...\n",
      "Compiling ContextCpu kernels...\n",
      "Compiling ContextCpu kernels...\n",
      "Done compiling ContextCpu kernels.\n",
      "Tracking particles for footprint...\n",
      "Loading line from dict: 76%  \r"
     ]
    },
    {
     "name": "stderr",
     "output_type": "stream",
     "text": [
      "97b4f422287443e68d1be0d333024ff7.c:4280: warning: \"_GNU_SOURCE\" redefined\n",
      " 4280 | #  define _GNU_SOURCE // enable GNU libc NAN extension if possible\n",
      "      | \n",
      "In file included from 97b4f422287443e68d1be0d333024ff7.c:50:\n",
      "/afs/cern.ch/work/c/cdroin/private/xmask_DA_study/miniconda/include/python3.10/pyconfig.h:1621: note: this is the location of the previous definition\n",
      " 1621 | #define _GNU_SOURCE 1\n",
      "      | \n"
     ]
    },
    {
     "name": "stdout",
     "output_type": "stream",
     "text": [
      "Done loading line from dict.           \n",
      "Done tracking.rom dict: 26%  \n",
      "Computing footprint...\n",
      "Done computing footprint.1%  \n",
      "Tracking particles for footprint...\n",
      "Done tracking.rom dict: 56%  \n",
      "Computing footprint...\n",
      "Done loading line from dict.           \n",
      "Done computing footprint.7%  \n",
      "Done compiling ContextCpu kernels.\n",
      "Done loading line from dict.           \n",
      "Compiling ContextCpu kernels...\n",
      "Done loading line from dict.           \n",
      "Done compiling ContextCpu kernels.\n",
      "Compiling ContextCpu kernels...\n",
      "Done compiling ContextCpu kernels.\n",
      "Done compiling ContextCpu kernels.\n",
      "Compiling ContextCpu kernels...\n",
      "Tracking particles for footprint...\n",
      "Loading line from dict: 75%  \r"
     ]
    },
    {
     "name": "stderr",
     "output_type": "stream",
     "text": [
      "3ddd55eda237422f8629493d55598ee8.c:4280: warning: \"_GNU_SOURCE\" redefined\n",
      " 4280 | #  define _GNU_SOURCE // enable GNU libc NAN extension if possible\n",
      "      | \n",
      "In file included from 3ddd55eda237422f8629493d55598ee8.c:50:\n",
      "/afs/cern.ch/work/c/cdroin/private/xmask_DA_study/miniconda/include/python3.10/pyconfig.h:1621: note: this is the location of the previous definition\n",
      " 1621 | #define _GNU_SOURCE 1\n",
      "      | \n"
     ]
    },
    {
     "name": "stdout",
     "output_type": "stream",
     "text": [
      "Compiling ContextCpu kernels...\n",
      "Done loading line from dict.           \n",
      "Done tracking.rom dict:  6%  \n",
      "Computing footprint...\n",
      "Loading line from dict: 20%  \r"
     ]
    },
    {
     "name": "stderr",
     "output_type": "stream",
     "text": [
      "139b6144603f4c0ca11aaafda8e473a5.c:4280: warning: \"_GNU_SOURCE\" redefined\n",
      " 4280 | #  define _GNU_SOURCE // enable GNU libc NAN extension if possible\n",
      "      | \n",
      "In file included from 139b6144603f4c0ca11aaafda8e473a5.c:50:\n",
      "/afs/cern.ch/work/c/cdroin/private/xmask_DA_study/miniconda/include/python3.10/pyconfig.h:1621: note: this is the location of the previous definition\n",
      " 1621 | #define _GNU_SOURCE 1\n",
      "      | \n"
     ]
    },
    {
     "name": "stdout",
     "output_type": "stream",
     "text": [
      "Done computing footprint.8%  \n",
      "Tracking particles for footprint...\n",
      "Done loading line from dict.           \n",
      "Done tracking.rom dict: 92%  \n",
      "Computing footprint...\n",
      "Done loading line from dict.           \n",
      "Done compiling ContextCpu kernels.\n",
      "Done computing footprint.5%  \n",
      "Compiling ContextCpu kernels...\n",
      "Done loading line from dict.           \n",
      "Done compiling ContextCpu kernels.\n",
      "Done compiling ContextCpu kernels.\n",
      "Compiling ContextCpu kernels...\n",
      "Compiling ContextCpu kernels...\n",
      "Compiling ContextCpu kernels...\n",
      "Loading line from dict: 74%  \r"
     ]
    },
    {
     "name": "stderr",
     "output_type": "stream",
     "text": [
      "811592fc08d54f368796f7e5583af0cd.c:4280: warning: \"_GNU_SOURCE\" redefined\n",
      " 4280 | #  define _GNU_SOURCE // enable GNU libc NAN extension if possible\n",
      "      | \n",
      "In file included from 811592fc08d54f368796f7e5583af0cd.c:50:\n",
      "/afs/cern.ch/work/c/cdroin/private/xmask_DA_study/miniconda/include/python3.10/pyconfig.h:1621: note: this is the location of the previous definition\n",
      " 1621 | #define _GNU_SOURCE 1\n",
      "      | \n"
     ]
    },
    {
     "name": "stdout",
     "output_type": "stream",
     "text": [
      "Done compiling ContextCpu kernels.\n",
      "Loading line from dict: 98%  \r"
     ]
    },
    {
     "name": "stderr",
     "output_type": "stream",
     "text": [
      "76bbd42bf5c44389b02bad3229261e3f.c:4280: warning: \"_GNU_SOURCE\" redefined\n",
      " 4280 | #  define _GNU_SOURCE // enable GNU libc NAN extension if possible\n",
      "      | \n",
      "In file included from 76bbd42bf5c44389b02bad3229261e3f.c:50:\n",
      "/afs/cern.ch/work/c/cdroin/private/xmask_DA_study/miniconda/include/python3.10/pyconfig.h:1621: note: this is the location of the previous definition\n",
      " 1621 | #define _GNU_SOURCE 1\n",
      "      | \n"
     ]
    },
    {
     "name": "stdout",
     "output_type": "stream",
     "text": [
      "Done loading line from dict.           \n",
      "Done tracking.rom dict:  5%  \n",
      "Computing footprint...\n",
      "Tracking particles for footprint...\n",
      "Done computing footprint.1%  \n",
      "Tracking particles for footprint...\n",
      "Done tracking.rom dict: 44%  \n",
      "Computing footprint...\n",
      "Done loading line from dict.           \n",
      "Done computing footprint.9%  \n",
      "Done loading line from dict.           \n",
      "Done compiling ContextCpu kernels.\n",
      "Done loading line from dict.           \n",
      "Compiling ContextCpu kernels...\n",
      "Done compiling ContextCpu kernels.\n",
      "Compiling ContextCpu kernels...\n",
      "Compiling ContextCpu kernels...\n",
      "Loading line from dict: 58%  \r"
     ]
    },
    {
     "name": "stderr",
     "output_type": "stream",
     "text": [
      "5ccf1f2b8b504e468766dc067aa7d2b2.c:4280: warning: \"_GNU_SOURCE\" redefined\n",
      " 4280 | #  define _GNU_SOURCE // enable GNU libc NAN extension if possible\n",
      "      | \n",
      "In file included from 5ccf1f2b8b504e468766dc067aa7d2b2.c:50:\n",
      "/afs/cern.ch/work/c/cdroin/private/xmask_DA_study/miniconda/include/python3.10/pyconfig.h:1621: note: this is the location of the previous definition\n",
      " 1621 | #define _GNU_SOURCE 1\n",
      "      | \n"
     ]
    },
    {
     "name": "stdout",
     "output_type": "stream",
     "text": [
      "Done compiling ContextCpu kernels.\n",
      "Done compiling ContextCpu kernels.\n",
      "Loading line from dict: 76%  \r"
     ]
    },
    {
     "name": "stderr",
     "output_type": "stream",
     "text": [
      "aa5d28b4b8fd4de6b6e43daa5706ba82.c:4280: warning: \"_GNU_SOURCE\" redefined\n",
      " 4280 | #  define _GNU_SOURCE // enable GNU libc NAN extension if possible\n",
      "      | \n",
      "In file included from aa5d28b4b8fd4de6b6e43daa5706ba82.c:50:\n",
      "/afs/cern.ch/work/c/cdroin/private/xmask_DA_study/miniconda/include/python3.10/pyconfig.h:1621: note: this is the location of the previous definition\n",
      " 1621 | #define _GNU_SOURCE 1\n",
      "      | \n"
     ]
    },
    {
     "name": "stdout",
     "output_type": "stream",
     "text": [
      "Tracking particles for footprint...\n",
      "Done tracking.rom dict: 95%  \n",
      "Computing footprint...\n",
      "Done loading line from dict.           \n",
      "Compiling ContextCpu kernels...\n",
      "Done computing footprint.9%  \n",
      "Tracking particles for footprint...ct: 32%  \n",
      "Done loading line from dict.           \n",
      "Done tracking.rom dict: 90%  \n",
      "Computing footprint...: 90%  \n",
      "Done loading line from dict.           \n",
      "Done computing footprint.2%  \n",
      "Done loading line from dict.           \n",
      "Done compiling ContextCpu kernels.\n",
      "Done compiling ContextCpu kernels.\n",
      "Done compiling ContextCpu kernels.\n",
      "Compiling ContextCpu kernels...\n",
      "Loading line from dict: 62%  \r"
     ]
    },
    {
     "name": "stderr",
     "output_type": "stream",
     "text": [
      "cf3d9c8afca2411ea5f3f5ad2d612c3f.c:4280: warning: \"_GNU_SOURCE\" redefined\n",
      " 4280 | #  define _GNU_SOURCE // enable GNU libc NAN extension if possible\n",
      "      | \n",
      "In file included from cf3d9c8afca2411ea5f3f5ad2d612c3f.c:50:\n",
      "/afs/cern.ch/work/c/cdroin/private/xmask_DA_study/miniconda/include/python3.10/pyconfig.h:1621: note: this is the location of the previous definition\n",
      " 1621 | #define _GNU_SOURCE 1\n",
      "      | \n"
     ]
    },
    {
     "name": "stdout",
     "output_type": "stream",
     "text": [
      "Done tracking.rom dict: 90%  \n",
      "Computing footprint...\n",
      "Loading line from dict: 97%  \r"
     ]
    }
   ],
   "source": [
    "l_bunch_nb =  list(bbs_b1.index)\n",
    "n_turns = 2000\n",
    "\n",
    "# Multiprocessing or multithreading in Python doesn't seem to work :'(\n",
    "do_multiprocessing_in_notebook = False\n",
    "do_multiprocessing_in_script = True\n",
    "if do_multiprocessing_in_notebook:\n",
    "    pool = Pool(4)\n",
    "    l_fp = [x for x in pool.starmap(return_footprint, [ (xt.Multiline.from_dict(collider.to_dict()), bunch_nb, n_turns) for bunch_nb in l_bunch_nb[:2]])]\n",
    "\n",
    "# So I do multiprocessing through scripts\n",
    "elif do_multiprocessing_in_script:\n",
    "    size_series = 40\n",
    "    for series in range(0, len(l_bunch_nb), size_series):\n",
    "        print(f\"Running series {series} to {series+size_series}\")\n",
    "        run_footprint_in_parallel_scripts(collider, l_bunch_nb[series:series+size_series], n_turns)\n",
    "        # Check every 30 seconds if the last job of the series is done\n",
    "        while not os.path.exists(f\"output/{l_bunch_nb[series+size_series-1]}/fp_polar_xm.pkl\"):\n",
    "            time.sleep(30)\n",
    "\n",
    "\n",
    "\n",
    "# Running jobs in series is way too slow   \n",
    "else:\n",
    "    l_fp = []\n",
    "    for bunch_nb in l_bunch_nb[:2]:\n",
    "        l_fp.append(return_footprint(collider, bunch_nb, n_turns))\n",
    "\n",
    "    # Save l_fp\n",
    "    with open(\"output/l_fp.pkl\", \"wb\") as f:\n",
    "        pickle.dump(l_fp, f)\n"
   ]
  },
  {
   "cell_type": "code",
   "execution_count": null,
   "metadata": {},
   "outputs": [],
   "source": [
    "if do_multiprocessing_in_script:\n",
    "    # Rebuild l_fp\n",
    "    l_fp = []\n",
    "    for bunch_nb in l_bunch_nb:\n",
    "        with open(f\"output/{bunch_nb}/fp_polar_xm.pkl\", \"rb\") as f:\n",
    "            l_fp.append(pickle.load(f))\n",
    "    \n",
    "    # Save l_fp\n",
    "    with open(\"output/l_fp.pkl\", \"wb\") as f:\n",
    "        pickle.dump(l_fp, f)"
   ]
  },
  {
   "attachments": {},
   "cell_type": "markdown",
   "metadata": {},
   "source": [
    "### Plot all footprints"
   ]
  },
  {
   "cell_type": "code",
   "execution_count": null,
   "metadata": {},
   "outputs": [],
   "source": [
    "# Load l_fp\n",
    "with open(\"output/l_fp.pkl\", \"rb\") as f:\n",
    "    l_fp = pickle.load(f)\n",
    "\n",
    "# Make a grid of plots for all the footprints\n",
    "n_cols = 5\n",
    "n_rows = int(np.ceil(len(l_fp)/n_cols))\n",
    "fig, axs = plt.subplots(n_rows, n_cols, figsize=(n_cols*3, n_rows*3))\n",
    "for i, fp in enumerate(l_fp):\n",
    "    ax = axs[i//n_cols, i%n_cols]\n",
    "    ax.plot(fp[0], fp[1])\n",
    "    ax.set_title(f\"Bunch {l_bunch_nb[i]}\")\n",
    "    ax.set_xlabel(r\"$\\mathrm{Q_x}$\")\n",
    "    ax.set_ylabel(r\"$\\mathrm{Q_y}$\")\n",
    "    ax.set_xlim(0, 1)\n",
    "    ax.set_ylim(0, 1)\n",
    "    ax.grid()\n",
    "\n"
   ]
  },
  {
   "cell_type": "code",
   "execution_count": null,
   "metadata": {},
   "outputs": [],
   "source": []
  }
 ],
 "metadata": {
  "kernelspec": {
   "display_name": "Python 3",
   "language": "python",
   "name": "python3"
  },
  "language_info": {
   "codemirror_mode": {
    "name": "ipython",
    "version": 3
   },
   "file_extension": ".py",
   "mimetype": "text/x-python",
   "name": "python",
   "nbconvert_exporter": "python",
   "pygments_lexer": "ipython3",
   "version": "3.10.9"
  },
  "orig_nbformat": 4
 },
 "nbformat": 4,
 "nbformat_minor": 2
}
