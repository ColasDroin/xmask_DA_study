{
 "cells": [
  {
   "attachments": {},
   "cell_type": "markdown",
   "metadata": {},
   "source": [
    "## Perturbative footprint study: footprints clustering"
   ]
  },
  {
   "attachments": {},
   "cell_type": "markdown",
   "metadata": {},
   "source": [
    "### Imports"
   ]
  },
  {
   "cell_type": "code",
   "execution_count": null,
   "metadata": {},
   "outputs": [],
   "source": [
    "# Import standard modules\n",
    "import numpy as np\n",
    "import pickle\n",
    "import matplotlib.pyplot as plt\n",
    "import pandas as pd\n",
    "from sklearn.decomposition import PCA\n",
    "from sklearn.cluster import MeanShift, estimate_bandwidth\n",
    "\n",
    "# Nicer style\n",
    "import seaborn as sns\n",
    "sns.set_theme(style=\"whitegrid\")\n",
    "%config InlineBackend.figure_format='retina'\n"
   ]
  },
  {
   "attachments": {},
   "cell_type": "markdown",
   "metadata": {},
   "source": [
    "### Load footprints and plot a sample"
   ]
  },
  {
   "cell_type": "code",
   "execution_count": null,
   "metadata": {},
   "outputs": [],
   "source": [
    "# Load l_fp\n",
    "with open(\"output/l_fp.pkl\", \"rb\") as f:\n",
    "    l_fp = pickle.load(f)\n",
    "\n",
    "# Load list of bunch numbers\n",
    "with open(\"output/l_bunch_nb.pkl\", \"rb\") as f:\n",
    "    l_bunch_nb = pickle.load(f)\n",
    "\n",
    "# Remove all nan footprints, along with bunch numbers\n",
    "#l_bunch_nb = [bunch_nb for i, bunch_nb in enumerate(l_bunch_nb) if not np.isnan(l_fp[i]).any()]\n",
    "#l_fp = [fp for fp in l_fp if not np.isnan(fp).any()]\n",
    "\n",
    "\n",
    "# Make a grid of plots for all the footprints\n",
    "sample_nb = 40\n",
    "n_cols = 10\n",
    "n_rows = int(np.ceil(len(l_fp[:sample_nb])/n_cols))\n",
    "fig, axs = plt.subplots(n_rows, n_cols, figsize=(n_cols*2.5, n_rows*2))\n",
    "for i, fp in enumerate(l_fp[:sample_nb]):\n",
    "    try:\n",
    "        ax = axs[i//n_cols, i%n_cols]\n",
    "        ax.plot(fp[0], fp[1], color=\"C0\")\n",
    "        ax.plot(fp[0].T, fp[1].T, color=\"C0\")\n",
    "        ax.set_title(f\"Bunch {l_bunch_nb[i]}\")\n",
    "        ax.set_xlabel(r\"$\\mathrm{Q_x}$\")\n",
    "        ax.set_ylabel(r\"$\\mathrm{Q_y}$\")\n",
    "        #ax.set_aspect(\"equal\")\n",
    "        ax.set_title(f\"Bunch {l_bunch_nb[i]}\")\n",
    "        ax.grid()\n",
    "    except:\n",
    "        pass\n",
    "\n",
    "plt.tight_layout()\n",
    "plt.show()"
   ]
  },
  {
   "attachments": {},
   "cell_type": "markdown",
   "metadata": {},
   "source": [
    "### Remove outliers in each figure"
   ]
  },
  {
   "cell_type": "code",
   "execution_count": null,
   "metadata": {},
   "outputs": [],
   "source": [
    "# Look for outlier index in Qy distribution\n",
    "l_qy = [fp[1] for fp in l_fp]\n",
    "for i, qy in enumerate(l_qy):\n",
    "    if np.min(qy) < 0.29:\n",
    "        # Get outlier coordinates in 2D\n",
    "        arg_outlier_flat = np.argmin(qy)\n",
    "        print(f\"Outlier found at index {i} (bunch {l_bunch_nb[i]}).\")\n",
    "        if i>80:\n",
    "            break\n",
    "\n",
    "# Clearly, there's a recurring outlier. Create a copy of fp where it's been replaced by nan\n",
    "l_fp_no_outlier = [fp.copy() for fp in l_fp]\n",
    "for i, fp in enumerate(l_fp_no_outlier):\n",
    "    l_fp_no_outlier[i][0].flat[arg_outlier_flat] = np.nan\n",
    "    l_fp_no_outlier[i][1].flat[arg_outlier_flat] = np.nan\n",
    "\n",
    "\n"
   ]
  },
  {
   "attachments": {},
   "cell_type": "markdown",
   "metadata": {},
   "source": [
    "### Get DA for each footprint and plot"
   ]
  },
  {
   "cell_type": "code",
   "execution_count": null,
   "metadata": {},
   "outputs": [],
   "source": [
    "# Load dataframe for DA\n",
    "path = \"/afs/cern.ch/work/c/cdroin/private/DA_study/master_study/opt_flathv_75_1500_withBB_chroma15_1p4_all_bunches\"\n",
    "df = pd.read_parquet(f\"{path}/da.parquet\")\n",
    "\n",
    "# Round all numbers to 3 decimals\n",
    "df = df.round(3)\n",
    "\n",
    "# Get list of bunches and list of DA\n",
    "l_bunch_nb_from_DA = df[\"bunch_nb\"]\n",
    "l_DA = df[\"normalized amplitude in xy-plane\"]\n",
    "dic_DA = {bunch_nb: DA for bunch_nb, DA in zip(l_bunch_nb_from_DA, l_DA)}"
   ]
  },
  {
   "cell_type": "code",
   "execution_count": null,
   "metadata": {},
   "outputs": [],
   "source": [
    "# Check that the bunch numbers are the same\n",
    "assert all(l_bunch_nb_from_DA) == all(l_bunch_nb)"
   ]
  },
  {
   "cell_type": "code",
   "execution_count": null,
   "metadata": {},
   "outputs": [],
   "source": [
    "# Plot DA vs bunch number\n",
    "plt.figure(figsize=(10, 5))\n",
    "plt.scatter(l_bunch_nb, [dic_DA[bunch_nb] for bunch_nb in l_bunch_nb], s = 2)\n",
    "plt.xlabel(\"Bunch number\")\n",
    "plt.ylabel(\"DA\")\n",
    "plt.title(\"Evolution of the DA with bunch number\")\n",
    "plt.savefig(\"PDF_output/DA_vs_bunch_nb.pdf\")\n",
    "plt.show()"
   ]
  },
  {
   "cell_type": "code",
   "execution_count": null,
   "metadata": {},
   "outputs": [],
   "source": [
    "# Make a grid of plots for all the footprints\n",
    "n_cols = 10\n",
    "n_rows = int(np.ceil(len(l_fp_no_outlier[:sample_nb])/n_cols))\n",
    "fig, axs = plt.subplots(n_rows, n_cols, figsize=(n_cols*2.5, n_rows*2))\n",
    "\n",
    "# Build a discrete colormap for DAs\n",
    "min_DA = np.min(l_DA)\n",
    "max_DA = np.max(l_DA)\n",
    "discrete_cmap = sns.color_palette(\"Spectral\", n_colors=256)\n",
    "l_colors = [discrete_cmap[int((DA-min_DA)/(max_DA-min_DA)*255)] for DA in l_DA]\n",
    "dic_colors = {bunch_nb: color for bunch_nb, color in zip(l_bunch_nb_from_DA, l_colors)}\n",
    "\n",
    "for i, (bunch_nb, fp) in enumerate(zip(l_bunch_nb[:sample_nb], l_fp_no_outlier[:sample_nb])):\n",
    "    try:\n",
    "        ax = axs[i//n_cols, i%n_cols]\n",
    "        ax.plot(fp[0], fp[1], color=dic_colors[l_bunch_nb[i]])\n",
    "        ax.plot(fp[0].T, fp[1].T, color=dic_colors[l_bunch_nb[i]])\n",
    "        ax.set_title(f\"Bunch {l_bunch_nb[i]}, DA={dic_DA[l_bunch_nb[i]]:.3f}\")\n",
    "        ax.set_xlabel(r\"$\\mathrm{Q_x}$\")\n",
    "        ax.set_ylabel(r\"$\\mathrm{Q_y}$\")\n",
    "        #ax.set_aspect(\"equal\")\n",
    "        ax.set_xlim(np.min(fp[0])-0.01, np.max(fp[0])+0.01)\n",
    "        ax.set_ylim(np.min(fp[1])-0.01, np.max(fp[1])+0.01)\n",
    "        ax.set_title(f\"Bunch {l_bunch_nb[i]}\")\n",
    "        ax.grid()\n",
    "    except:\n",
    "        pass\n",
    "\n",
    "plt.tight_layout()\n",
    "plt.show()"
   ]
  },
  {
   "attachments": {},
   "cell_type": "markdown",
   "metadata": {},
   "source": [
    "### Reduce dimensionality with PCA"
   ]
  },
  {
   "cell_type": "code",
   "execution_count": null,
   "metadata": {},
   "outputs": [],
   "source": [
    "# Convert matrix samples to a row\n",
    "l_fp_flat = []\n",
    "for i, fp in enumerate(l_fp):\n",
    "    # Process qx and qy separately\n",
    "    fp_x = fp[0].flatten()\n",
    "    fp_y = fp[1].flatten()\n",
    "\n",
    "    # Remove outlier\n",
    "    fp_x_deleted = np.delete(fp_x, arg_outlier_flat)\n",
    "    fp_y_deleted = np.delete(fp_y, arg_outlier_flat)\n",
    "    # Replace by nan\n",
    "    #fp_x_deleted = np.insert(fp_x_deleted, arg_outlier_flat, 0.3)\n",
    "    #fp_y_deleted = np.insert(fp_y_deleted, arg_outlier_flat, 0.3)\n",
    "    \n",
    "    l_fp_flat.append([fp_x_deleted, fp_y_deleted])\n",
    "    #l_fp_flat.append([fp_x, fp_y])\n",
    "array_fp_flat = np.array(l_fp_flat)\n",
    "\n",
    "# apply tsne to the data: rebuild the 2D matrix with only 1 components for each tune dimension\n",
    "pca = PCA(n_components=5)\n",
    "#pca = umap.UMAP(random_state=42)\n",
    "\n",
    "array_fp_flat_qx_ld = pca.fit_transform(array_fp_flat[:,0,:])\n",
    "array_fp_flat_qx_compressed = pca.inverse_transform(array_fp_flat_qx_ld)\n",
    "array_fp_flat_qy_ld = pca.fit_transform(array_fp_flat[:,1,:])\n",
    "array_fp_flat_qy_compressed = pca.inverse_transform(array_fp_flat_qy_ld)\n",
    "\n",
    "# Insert np.nan for outlier and reshape compressed arrays to original shape\n",
    "array_fp_flat_qx_compressed = np.insert(array_fp_flat_qx_compressed, arg_outlier_flat, np.nan, axis = -1)\n",
    "array_fp_flat_qy_compressed = np.insert(array_fp_flat_qy_compressed, arg_outlier_flat, np.nan, axis = -1)\n",
    "array_fp_flat_qx_compressed = np.reshape(array_fp_flat_qx_compressed, (array_fp_flat_qx_compressed.shape[0], l_fp[0][0].shape[0], l_fp[0][0].shape[1]))\n",
    "array_fp_flat_qy_compressed = np.reshape(array_fp_flat_qy_compressed, (array_fp_flat_qy_compressed.shape[0], l_fp[0][1].shape[0], l_fp[0][1].shape[1]))\n",
    "array_fp_flat_compressed = np.array([array_fp_flat_qx_compressed, array_fp_flat_qy_compressed])\n",
    "\n",
    "# switch dimension 0 and 1\n",
    "array_fp_compressed = np.swapaxes(array_fp_flat_compressed, 0, 1)\n",
    "\n",
    "print(array_fp_compressed.shape)"
   ]
  },
  {
   "cell_type": "code",
   "execution_count": null,
   "metadata": {},
   "outputs": [],
   "source": [
    "# Make a grid of plots for all the footprints\n",
    "n_cols = 10\n",
    "n_rows = int(np.ceil(len(l_fp_no_outlier[:sample_nb])/n_cols))\n",
    "fig, axs = plt.subplots(n_rows, n_cols, figsize=(n_cols*2.5, n_rows*2))\n",
    "for i, (fp_compressed, fp_original) in enumerate(zip(array_fp_compressed[:sample_nb], l_fp_no_outlier[:sample_nb])):\n",
    "    try:\n",
    "        ax = axs[i//n_cols, i%n_cols]\n",
    "        ax.plot(fp_compressed[0], fp_compressed[1], color=\"C0\")\n",
    "        ax.plot(fp_compressed[0].T, fp_compressed[1].T, color=\"C0\")\n",
    "        ax.plot(fp_original[0], fp_original[1], color=\"C1\", alpha = 0.5)\n",
    "        ax.plot(fp_original[0].T, fp_original[1].T, color=\"C1\", alpha = 0.5)\n",
    "        ax.set_title(f\"Bunch {l_bunch_nb[i]}\")\n",
    "        ax.set_xlabel(r\"$\\mathrm{Q_x}$\")\n",
    "        ax.set_ylabel(r\"$\\mathrm{Q_y}$\")\n",
    "        #ax.set_aspect(\"equal\")\n",
    "        ax.set_xlim(np.min(fp_original[0])-0.01, np.max(fp_original[0])+0.01)\n",
    "        ax.set_ylim(np.min(fp_original[1])-0.01, np.max(fp_original[1])+0.01)\n",
    "        ax.set_title(f\"Bunch {l_bunch_nb[i]}\")\n",
    "        ax.grid()\n",
    "    except:\n",
    "        pass\n",
    "\n",
    "plt.tight_layout()\n",
    "plt.savefig(\"output/footprints_compressed.png\")\n",
    "#plt.show()"
   ]
  },
  {
   "attachments": {},
   "cell_type": "markdown",
   "metadata": {},
   "source": [
    "### Cluster the resulting points"
   ]
  },
  {
   "cell_type": "code",
   "execution_count": null,
   "metadata": {},
   "outputs": [],
   "source": [
    "# Get 4D data\n",
    "array_fp_ld = np.hstack([array_fp_flat_qx_ld, array_fp_flat_qy_ld])\n",
    "\n",
    "# Apply HDBSCAN\n",
    "#clusterer = hdbscan.HDBSCAN(min_cluster_size=5, min_samples=10).fit(array_fp_ld)\n",
    "#\n",
    "bandwidth = estimate_bandwidth(array_fp_ld, quantile=0.13, n_samples=len(array_fp_ld))\n",
    "clusterer = MeanShift(bandwidth=bandwidth, bin_seeding=True).fit(array_fp_ld)\n",
    "clusterer.labels_\n"
   ]
  },
  {
   "cell_type": "code",
   "execution_count": null,
   "metadata": {},
   "outputs": [],
   "source": [
    "# Plot initial data according to labels\n",
    "n_cols = 10\n",
    "n_rows = int(np.ceil(len(l_fp[:sample_nb])/n_cols))\n",
    "fig, axs = plt.subplots(n_rows, n_cols, figsize=(n_cols*2.5, n_rows*2))\n",
    "for i, fp in enumerate(l_fp[:sample_nb]):\n",
    "    try:\n",
    "        ax = axs[i//n_cols, i%n_cols]\n",
    "        ax.plot(fp[0], fp[1], color=\"C\" + str(clusterer.labels_[i]))\n",
    "        ax.plot(fp[0].T, fp[1].T, color=\"C\" + str(clusterer.labels_[i]))\n",
    "        ax.set_title(f\"Bunch {l_bunch_nb[i]}\")\n",
    "        ax.set_xlabel(r\"$\\mathrm{Q_x}$\")\n",
    "        ax.set_ylabel(r\"$\\mathrm{Q_y}$\")\n",
    "        #ax.set_aspect(\"equal\")\n",
    "        ax.set_title(f\"Bunch {l_bunch_nb[i]}\")\n",
    "        ax.grid()\n",
    "    except:\n",
    "        pass\n",
    "\n",
    "plt.tight_layout()\n",
    "plt.show()"
   ]
  },
  {
   "attachments": {},
   "cell_type": "markdown",
   "metadata": {},
   "source": [
    "### Plot DA distribution per cluster"
   ]
  },
  {
   "cell_type": "code",
   "execution_count": null,
   "metadata": {},
   "outputs": [],
   "source": [
    "# Compute a dataframe of DA for each cluster\n",
    "\n",
    "dic_cluster_DA = {f'C$_{{{i}}}$':[] for i in np.unique(clusterer.labels_)}\n",
    "for i, bunch_nb in enumerate(l_bunch_nb):\n",
    "    # Get cluster number\n",
    "    cluster_nb = clusterer.labels_[i]\n",
    "    dic_cluster_DA[f'C$_{{{cluster_nb}}}$'].append(dic_DA[bunch_nb])\n",
    "\n",
    "# Get list of cluster numbers and list of DA for each cluster\n",
    "l_cluster_nb = list(dic_cluster_DA.keys())\n",
    "l_DA_violin = list(dic_cluster_DA.values())\n",
    "\n",
    "# Sort by min DA in l_DA\n",
    "l_DA_sorted = [x for _,x in sorted(zip([np.min(x) for x in l_DA_violin], l_DA_violin))]\n",
    "l_cluster_nb_sorted = [x for _,x in sorted(zip([np.min(x) for x in l_DA_violin], l_cluster_nb))]\n",
    "\n",
    "fig, ax = plt.subplots(figsize=(9, 6))\n",
    "\n",
    "def set_axis_style(ax, labels):\n",
    "    ax.set_xticks(np.arange(1, len(labels) + 1), labels=labels)\n",
    "    ax.set_xlim(0.25, len(labels) + 0.75)\n",
    "    ax.set_xlabel('Cluster')\n",
    "\n",
    "plt.violinplot(dataset=l_DA_sorted )\n",
    "# set style for the axes\n",
    "set_axis_style(ax, l_cluster_nb_sorted)\n",
    "plt.ylabel(\"DA (sigma)\")\n",
    "plt.title(\"Distribution of DA for each cluster\")\n",
    "plt.savefig(\"PDF_output/DA_distribution.pdf\")\n",
    "plt.show()\n"
   ]
  },
  {
   "attachments": {},
   "cell_type": "markdown",
   "metadata": {},
   "source": [
    "### Build PDF files to represent all footprints"
   ]
  },
  {
   "cell_type": "code",
   "execution_count": null,
   "metadata": {},
   "outputs": [],
   "source": [
    "# Build a file where footprints are colored by DA\n",
    "# Sample one bunch out of 10 to keep figure readable\n",
    "\n",
    "#Make a grid of plots for all the footprints\n",
    "n_cols = 10\n",
    "n_rows = int(np.ceil(len(l_fp_no_outlier[::10])/n_cols))\n",
    "fig, axs = plt.subplots(n_rows, n_cols, figsize=(n_cols*2.5, n_rows*2))\n",
    "#plt.suptitle(\"Footprints colored by DA\")\n",
    "\n",
    "# Build a discrete colormap for DAs\n",
    "min_DA = np.min(l_DA)\n",
    "max_DA = np.max(l_DA)\n",
    "discrete_cmap = sns.color_palette(\"Spectral\", n_colors=256)\n",
    "l_colors = [discrete_cmap[int((DA-min_DA)/(max_DA-min_DA)*255)] for DA in l_DA]\n",
    "dic_colors = {int(bunch_nb): color for bunch_nb, color in zip(l_bunch_nb_from_DA, l_colors)}\n",
    "\n",
    "\n",
    "# # Get ax limits\n",
    "min_x = np.min([np.nanmin(fp[0]) for fp in l_fp_no_outlier])\n",
    "max_x = np.max([np.nanmax(fp[0]) for fp in l_fp_no_outlier])\n",
    "min_y = np.min([np.nanmin(fp[1]) for fp in l_fp_no_outlier])\n",
    "max_y = np.max([np.nanmax(fp[1]) for fp in l_fp_no_outlier])\n",
    "\n",
    "for i, (bunch_nb, fp) in enumerate(zip(l_bunch_nb[::10], l_fp_no_outlier[::10])):\n",
    "    ax = axs[i//n_cols, i%n_cols]\n",
    "    ax.plot(fp[0], fp[1], color=dic_colors[bunch_nb])\n",
    "    ax.plot(fp[0].T, fp[1].T, color=dic_colors[bunch_nb])\n",
    "    ax.set_title(f\"Bunch {bunch_nb}, DA={dic_DA[bunch_nb]:.3f}, cluster {clusterer.labels_[::10][i]}\", fontsize=8)\n",
    "    ax.set_xlabel(r\"$\\mathrm{Q_x}$\", fontsize=6)\n",
    "    ax.set_ylabel(r\"$\\mathrm{Q_y}$\", fontsize=6)\n",
    "    # Set smaller ticklabels\n",
    "    ax.tick_params(axis='both', which='major', labelsize=6)\n",
    "    ax.tick_params(axis='both', which='minor', labelsize=6)\n",
    "    #ax.set_aspect(\"equal\")\n",
    "    ax.set_xlim(min_x-0.001, max_x+0.001)\n",
    "    ax.set_ylim(min_y-0.001, max_y+0.001)\n",
    "    #ax.set_title(f\"Bunch {l_bunch_nb[i]}, DA={dic_DA[l_bunch_nb[i]]:.3f}, cluster {clusterer.labels_[i]}\")\n",
    "    ax.grid()\n",
    "\n",
    "plt.tight_layout()\n",
    "plt.savefig(\"PDF_output/footprints_colored_by_DA.pdf\")\n",
    "#plt.show()"
   ]
  },
  {
   "cell_type": "code",
   "execution_count": null,
   "metadata": {},
   "outputs": [],
   "source": [
    "# Build a file where footprints are colored by cluster\n",
    "# Sample one bunch out of 10 to keep figure readable\n",
    "\n",
    "#Make a grid of plots for all the footprints\n",
    "n_cols = 10\n",
    "n_rows = int(np.ceil(len(l_fp_no_outlier[::10])/n_cols))\n",
    "fig, axs = plt.subplots(n_rows, n_cols, figsize=(n_cols*2.5, n_rows*2))\n",
    "#plt.suptitle(\"Footprints colored by cluster\")\n",
    "\n",
    "\n",
    "# # Get ax limits\n",
    "min_x = np.min([np.nanmin(fp[0]) for fp in l_fp_no_outlier])\n",
    "max_x = np.max([np.nanmax(fp[0]) for fp in l_fp_no_outlier])\n",
    "min_y = np.min([np.nanmin(fp[1]) for fp in l_fp_no_outlier])\n",
    "max_y = np.max([np.nanmax(fp[1]) for fp in l_fp_no_outlier])\n",
    "\n",
    "for i, (bunch_nb, fp) in enumerate(zip(l_bunch_nb[::10], l_fp_no_outlier[::10])):\n",
    "    ax = axs[i//n_cols, i%n_cols]\n",
    "    ax.plot(fp[0], fp[1],  color=\"C\" + str(clusterer.labels_[i]))\n",
    "    ax.plot(fp[0].T, fp[1].T, color=\"C\" + str(clusterer.labels_[i]))\n",
    "    ax.set_title(f\"Bunch {bunch_nb}, DA={dic_DA[bunch_nb]:.3f}, cluster {clusterer.labels_[::10][i]}\", fontsize=8)\n",
    "    ax.set_xlabel(r\"$\\mathrm{Q_x}$\", fontsize=6)\n",
    "    ax.set_ylabel(r\"$\\mathrm{Q_y}$\", fontsize=6)\n",
    "    # Set smaller ticklabels\n",
    "    ax.tick_params(axis='both', which='major', labelsize=6)\n",
    "    ax.tick_params(axis='both', which='minor', labelsize=6)\n",
    "    #ax.set_aspect(\"equal\")\n",
    "    ax.set_xlim(min_x-0.001, max_x+0.001)\n",
    "    ax.set_ylim(min_y-0.001, max_y+0.001)\n",
    "    #ax.set_title(f\"Bunch {l_bunch_nb[i]}, DA={dic_DA[l_bunch_nb[i]]:.3f}, cluster {clusterer.labels_[i]}\")\n",
    "    ax.grid()\n",
    "\n",
    "plt.tight_layout()\n",
    "plt.savefig(\"PDF_output/footprints_colored_by_cluster.pdf\")\n",
    "#plt.show()"
   ]
  },
  {
   "cell_type": "code",
   "execution_count": null,
   "metadata": {},
   "outputs": [],
   "source": []
  },
  {
   "cell_type": "code",
   "execution_count": null,
   "metadata": {},
   "outputs": [],
   "source": []
  }
 ],
 "metadata": {
  "kernelspec": {
   "display_name": "Python 3",
   "language": "python",
   "name": "python3"
  },
  "language_info": {
   "codemirror_mode": {
    "name": "ipython",
    "version": 3
   },
   "file_extension": ".py",
   "mimetype": "text/x-python",
   "name": "python",
   "nbconvert_exporter": "python",
   "pygments_lexer": "ipython3",
   "version": "3.10.9"
  },
  "orig_nbformat": 4
 },
 "nbformat": 4,
 "nbformat_minor": 2
}
